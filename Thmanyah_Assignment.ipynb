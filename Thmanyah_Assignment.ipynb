{
  "nbformat": 4,
  "nbformat_minor": 0,
  "metadata": {
    "colab": {
      "provenance": [],
      "authorship_tag": "ABX9TyPIleBp4/YBkO+EKOMyRC9x",
      "include_colab_link": true
    },
    "kernelspec": {
      "name": "python3",
      "display_name": "Python 3"
    },
    "language_info": {
      "name": "python"
    }
  },
  "cells": [
    {
      "cell_type": "markdown",
      "metadata": {
        "id": "view-in-github",
        "colab_type": "text"
      },
      "source": [
        "<a href=\"https://colab.research.google.com/github/Abdullah-Al-Muaddi/Thmanyah-Podcast-Insights/blob/main/Thmanyah_Assignment.ipynb\" target=\"_parent\"><img src=\"https://colab.research.google.com/assets/colab-badge.svg\" alt=\"Open In Colab\"/></a>"
      ]
    },
    {
      "cell_type": "markdown",
      "source": [
        "![إذاعة-ثمانية-المخاطرة-التي-يستحقها-المحتوى-العربي-🚀-SSQKhXz-T84-853x480-10m23s.png](data:image/png;base64,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)"
      ],
      "metadata": {
        "id": "-CNI-ommwM6r"
      }
    },
    {
      "cell_type": "markdown",
      "source": [
        "# Analyzing preliminary data from podcast listening records, understanding user behavior, and providing initial recommendations based on that.\n",
        "\n",
        "**Here is the tasks we want to achieve**\n",
        "\n",
        "\n",
        "*   Task #1 **(Reading and processing data)**\n",
        "\n",
        "               1.1.  read the data from the three provided files.\n",
        "               1.2.  Data Cleaning.\n",
        "               1.3.  Joining the data together.\n",
        "\n",
        "\n",
        "*   Task #2 **(Analysis Data)**\n",
        "\n",
        "  Answer the following questions:\n",
        "\n",
        "              2.1 What are the most listened-to episode categories?\n",
        "              2.2 What is the difference in average listening duration between males and females?\n",
        "              2.3 What is the average number of episodes listened to per user?\n",
        "              2.4 Looking at the available data, what additional analysis or indicator do you think would be useful to understand user behavior? And why?\n",
        "            \n",
        "*   Task #3 **(Generate Recommendations)**\n",
        "\n",
        "            3.1 Write a simple Python function that recommends episodes to a specific user.\n",
        "\n",
        "\n",
        "\n"
      ],
      "metadata": {
        "id": "jNCZhdn7s7b8"
      }
    },
    {
      "cell_type": "markdown",
      "source": [
        "### Import necessary libraries"
      ],
      "metadata": {
        "id": "A9QT8IM-wsW6"
      }
    },
    {
      "cell_type": "code",
      "source": [
        "!pip install gdown #for downloading files from the drive"
      ],
      "metadata": {
        "colab": {
          "base_uri": "https://localhost:8080/"
        },
        "id": "te1Tj5TKiUMZ",
        "outputId": "76adedf3-a48b-4b6c-c73f-0514b75ae0bf"
      },
      "execution_count": null,
      "outputs": [
        {
          "output_type": "stream",
          "name": "stdout",
          "text": [
            "Requirement already satisfied: gdown in /usr/local/lib/python3.11/dist-packages (5.2.0)\n",
            "Requirement already satisfied: beautifulsoup4 in /usr/local/lib/python3.11/dist-packages (from gdown) (4.13.4)\n",
            "Requirement already satisfied: filelock in /usr/local/lib/python3.11/dist-packages (from gdown) (3.18.0)\n",
            "Requirement already satisfied: requests[socks] in /usr/local/lib/python3.11/dist-packages (from gdown) (2.32.3)\n",
            "Requirement already satisfied: tqdm in /usr/local/lib/python3.11/dist-packages (from gdown) (4.67.1)\n",
            "Requirement already satisfied: soupsieve>1.2 in /usr/local/lib/python3.11/dist-packages (from beautifulsoup4->gdown) (2.7)\n",
            "Requirement already satisfied: typing-extensions>=4.0.0 in /usr/local/lib/python3.11/dist-packages (from beautifulsoup4->gdown) (4.13.2)\n",
            "Requirement already satisfied: charset-normalizer<4,>=2 in /usr/local/lib/python3.11/dist-packages (from requests[socks]->gdown) (3.4.2)\n",
            "Requirement already satisfied: idna<4,>=2.5 in /usr/local/lib/python3.11/dist-packages (from requests[socks]->gdown) (3.10)\n",
            "Requirement already satisfied: urllib3<3,>=1.21.1 in /usr/local/lib/python3.11/dist-packages (from requests[socks]->gdown) (2.4.0)\n",
            "Requirement already satisfied: certifi>=2017.4.17 in /usr/local/lib/python3.11/dist-packages (from requests[socks]->gdown) (2025.4.26)\n",
            "Requirement already satisfied: PySocks!=1.5.7,>=1.5.6 in /usr/local/lib/python3.11/dist-packages (from requests[socks]->gdown) (1.7.1)\n"
          ]
        }
      ]
    },
    {
      "cell_type": "code",
      "source": [
        "import gdown #used for downloading files from the drive\n",
        "import pandas as pd\n",
        "import seaborn as sns\n",
        "import matplotlib.pyplot as plt\n",
        "import plotly.express as px #used for creating plots (similar to plt and sns)\n",
        "from sklearn.neighbors import NearestNeighbors\n",
        "import random"
      ],
      "metadata": {
        "id": "iBKqGaA3bh8j"
      },
      "execution_count": null,
      "outputs": []
    },
    {
      "cell_type": "markdown",
      "source": [
        "### Download and extract assignment files\n"
      ],
      "metadata": {
        "id": "Pe0JGCwjc6dG"
      }
    },
    {
      "cell_type": "code",
      "source": [
        "folder_id = '1eWR7ds513NCE9egSdMQq31Ks5XVYkUzc?usp=sharing' #folder contains the provided files\n",
        "gdown.download_folder(id=folder_id, quiet=False, use_cookies=False)"
      ],
      "metadata": {
        "colab": {
          "base_uri": "https://localhost:8080/"
        },
        "id": "13hCxricbhqq",
        "outputId": "fda057ed-8b1f-446b-959e-303ca2b92b04"
      },
      "execution_count": null,
      "outputs": [
        {
          "output_type": "stream",
          "name": "stderr",
          "text": [
            "Retrieving folder contents\n"
          ]
        },
        {
          "output_type": "stream",
          "name": "stdout",
          "text": [
            "Processing file 1VAhLA4r-fciYP8kKTYJbDw7bkfeNI2j6 episodes.csv\n",
            "Processing file 1ZdZ48iWOXXlwqgMzQhyhGHCuxmJ4SoeL listens.json\n",
            "Processing file 1foVshmhqNQeh4BDfNwhPFEHlGHBP-aFh users.csv\n"
          ]
        },
        {
          "output_type": "stream",
          "name": "stderr",
          "text": [
            "Retrieving folder contents completed\n",
            "Building directory structure\n",
            "Building directory structure completed\n",
            "Downloading...\n",
            "From: https://drive.google.com/uc?id=1VAhLA4r-fciYP8kKTYJbDw7bkfeNI2j6\n",
            "To: /content/assignment/episodes.csv\n",
            "100%|██████████| 652/652 [00:00<00:00, 1.83MB/s]\n",
            "Downloading...\n",
            "From: https://drive.google.com/uc?id=1ZdZ48iWOXXlwqgMzQhyhGHCuxmJ4SoeL\n",
            "To: /content/assignment/listens.json\n",
            "100%|██████████| 7.71k/7.71k [00:00<00:00, 16.4MB/s]\n",
            "Downloading...\n",
            "From: https://drive.google.com/uc?id=1foVshmhqNQeh4BDfNwhPFEHlGHBP-aFh\n",
            "To: /content/assignment/users.csv\n",
            "100%|██████████| 420/420 [00:00<00:00, 752kB/s]\n",
            "Download completed\n"
          ]
        },
        {
          "output_type": "execute_result",
          "data": {
            "text/plain": [
              "['/content/assignment/episodes.csv',\n",
              " '/content/assignment/listens.json',\n",
              " '/content/assignment/users.csv']"
            ]
          },
          "metadata": {},
          "execution_count": 107
        }
      ]
    },
    {
      "cell_type": "markdown",
      "source": [
        "## Task #1 (Reading and processing data)"
      ],
      "metadata": {
        "id": "bevPW9SPyNT9"
      }
    },
    {
      "cell_type": "markdown",
      "source": [
        "###  1.1.  read the data from the three provided files."
      ],
      "metadata": {
        "id": "86inz8QVdMuk"
      }
    },
    {
      "cell_type": "code",
      "execution_count": null,
      "metadata": {
        "colab": {
          "base_uri": "https://localhost:8080/",
          "height": 206
        },
        "id": "HF3-BYwUahpu",
        "outputId": "6754bbc2-bea9-4aef-a387-184bc7a6d9d7"
      },
      "outputs": [
        {
          "output_type": "execute_result",
          "data": {
            "text/plain": [
              "   user_id  age  gender       country\n",
              "0        1   38  female       Morocco\n",
              "1        2   30  female        Jordan\n",
              "2        3   42    male  Saudi Arabia\n",
              "3        4   57  female         Egypt\n",
              "4        5   51  female        Jordan"
            ],
            "text/html": [
              "\n",
              "  <div id=\"df-cd1aa338-e944-402e-be4e-2cfa24544057\" class=\"colab-df-container\">\n",
              "    <div>\n",
              "<style scoped>\n",
              "    .dataframe tbody tr th:only-of-type {\n",
              "        vertical-align: middle;\n",
              "    }\n",
              "\n",
              "    .dataframe tbody tr th {\n",
              "        vertical-align: top;\n",
              "    }\n",
              "\n",
              "    .dataframe thead th {\n",
              "        text-align: right;\n",
              "    }\n",
              "</style>\n",
              "<table border=\"1\" class=\"dataframe\">\n",
              "  <thead>\n",
              "    <tr style=\"text-align: right;\">\n",
              "      <th></th>\n",
              "      <th>user_id</th>\n",
              "      <th>age</th>\n",
              "      <th>gender</th>\n",
              "      <th>country</th>\n",
              "    </tr>\n",
              "  </thead>\n",
              "  <tbody>\n",
              "    <tr>\n",
              "      <th>0</th>\n",
              "      <td>1</td>\n",
              "      <td>38</td>\n",
              "      <td>female</td>\n",
              "      <td>Morocco</td>\n",
              "    </tr>\n",
              "    <tr>\n",
              "      <th>1</th>\n",
              "      <td>2</td>\n",
              "      <td>30</td>\n",
              "      <td>female</td>\n",
              "      <td>Jordan</td>\n",
              "    </tr>\n",
              "    <tr>\n",
              "      <th>2</th>\n",
              "      <td>3</td>\n",
              "      <td>42</td>\n",
              "      <td>male</td>\n",
              "      <td>Saudi Arabia</td>\n",
              "    </tr>\n",
              "    <tr>\n",
              "      <th>3</th>\n",
              "      <td>4</td>\n",
              "      <td>57</td>\n",
              "      <td>female</td>\n",
              "      <td>Egypt</td>\n",
              "    </tr>\n",
              "    <tr>\n",
              "      <th>4</th>\n",
              "      <td>5</td>\n",
              "      <td>51</td>\n",
              "      <td>female</td>\n",
              "      <td>Jordan</td>\n",
              "    </tr>\n",
              "  </tbody>\n",
              "</table>\n",
              "</div>\n",
              "    <div class=\"colab-df-buttons\">\n",
              "\n",
              "  <div class=\"colab-df-container\">\n",
              "    <button class=\"colab-df-convert\" onclick=\"convertToInteractive('df-cd1aa338-e944-402e-be4e-2cfa24544057')\"\n",
              "            title=\"Convert this dataframe to an interactive table.\"\n",
              "            style=\"display:none;\">\n",
              "\n",
              "  <svg xmlns=\"http://www.w3.org/2000/svg\" height=\"24px\" viewBox=\"0 -960 960 960\">\n",
              "    <path d=\"M120-120v-720h720v720H120Zm60-500h600v-160H180v160Zm220 220h160v-160H400v160Zm0 220h160v-160H400v160ZM180-400h160v-160H180v160Zm440 0h160v-160H620v160ZM180-180h160v-160H180v160Zm440 0h160v-160H620v160Z\"/>\n",
              "  </svg>\n",
              "    </button>\n",
              "\n",
              "  <style>\n",
              "    .colab-df-container {\n",
              "      display:flex;\n",
              "      gap: 12px;\n",
              "    }\n",
              "\n",
              "    .colab-df-convert {\n",
              "      background-color: #E8F0FE;\n",
              "      border: none;\n",
              "      border-radius: 50%;\n",
              "      cursor: pointer;\n",
              "      display: none;\n",
              "      fill: #1967D2;\n",
              "      height: 32px;\n",
              "      padding: 0 0 0 0;\n",
              "      width: 32px;\n",
              "    }\n",
              "\n",
              "    .colab-df-convert:hover {\n",
              "      background-color: #E2EBFA;\n",
              "      box-shadow: 0px 1px 2px rgba(60, 64, 67, 0.3), 0px 1px 3px 1px rgba(60, 64, 67, 0.15);\n",
              "      fill: #174EA6;\n",
              "    }\n",
              "\n",
              "    .colab-df-buttons div {\n",
              "      margin-bottom: 4px;\n",
              "    }\n",
              "\n",
              "    [theme=dark] .colab-df-convert {\n",
              "      background-color: #3B4455;\n",
              "      fill: #D2E3FC;\n",
              "    }\n",
              "\n",
              "    [theme=dark] .colab-df-convert:hover {\n",
              "      background-color: #434B5C;\n",
              "      box-shadow: 0px 1px 3px 1px rgba(0, 0, 0, 0.15);\n",
              "      filter: drop-shadow(0px 1px 2px rgba(0, 0, 0, 0.3));\n",
              "      fill: #FFFFFF;\n",
              "    }\n",
              "  </style>\n",
              "\n",
              "    <script>\n",
              "      const buttonEl =\n",
              "        document.querySelector('#df-cd1aa338-e944-402e-be4e-2cfa24544057 button.colab-df-convert');\n",
              "      buttonEl.style.display =\n",
              "        google.colab.kernel.accessAllowed ? 'block' : 'none';\n",
              "\n",
              "      async function convertToInteractive(key) {\n",
              "        const element = document.querySelector('#df-cd1aa338-e944-402e-be4e-2cfa24544057');\n",
              "        const dataTable =\n",
              "          await google.colab.kernel.invokeFunction('convertToInteractive',\n",
              "                                                    [key], {});\n",
              "        if (!dataTable) return;\n",
              "\n",
              "        const docLinkHtml = 'Like what you see? Visit the ' +\n",
              "          '<a target=\"_blank\" href=https://colab.research.google.com/notebooks/data_table.ipynb>data table notebook</a>'\n",
              "          + ' to learn more about interactive tables.';\n",
              "        element.innerHTML = '';\n",
              "        dataTable['output_type'] = 'display_data';\n",
              "        await google.colab.output.renderOutput(dataTable, element);\n",
              "        const docLink = document.createElement('div');\n",
              "        docLink.innerHTML = docLinkHtml;\n",
              "        element.appendChild(docLink);\n",
              "      }\n",
              "    </script>\n",
              "  </div>\n",
              "\n",
              "\n",
              "    <div id=\"df-4bd09b63-9025-4bec-b146-645191f3882b\">\n",
              "      <button class=\"colab-df-quickchart\" onclick=\"quickchart('df-4bd09b63-9025-4bec-b146-645191f3882b')\"\n",
              "                title=\"Suggest charts\"\n",
              "                style=\"display:none;\">\n",
              "\n",
              "<svg xmlns=\"http://www.w3.org/2000/svg\" height=\"24px\"viewBox=\"0 0 24 24\"\n",
              "     width=\"24px\">\n",
              "    <g>\n",
              "        <path d=\"M19 3H5c-1.1 0-2 .9-2 2v14c0 1.1.9 2 2 2h14c1.1 0 2-.9 2-2V5c0-1.1-.9-2-2-2zM9 17H7v-7h2v7zm4 0h-2V7h2v10zm4 0h-2v-4h2v4z\"/>\n",
              "    </g>\n",
              "</svg>\n",
              "      </button>\n",
              "\n",
              "<style>\n",
              "  .colab-df-quickchart {\n",
              "      --bg-color: #E8F0FE;\n",
              "      --fill-color: #1967D2;\n",
              "      --hover-bg-color: #E2EBFA;\n",
              "      --hover-fill-color: #174EA6;\n",
              "      --disabled-fill-color: #AAA;\n",
              "      --disabled-bg-color: #DDD;\n",
              "  }\n",
              "\n",
              "  [theme=dark] .colab-df-quickchart {\n",
              "      --bg-color: #3B4455;\n",
              "      --fill-color: #D2E3FC;\n",
              "      --hover-bg-color: #434B5C;\n",
              "      --hover-fill-color: #FFFFFF;\n",
              "      --disabled-bg-color: #3B4455;\n",
              "      --disabled-fill-color: #666;\n",
              "  }\n",
              "\n",
              "  .colab-df-quickchart {\n",
              "    background-color: var(--bg-color);\n",
              "    border: none;\n",
              "    border-radius: 50%;\n",
              "    cursor: pointer;\n",
              "    display: none;\n",
              "    fill: var(--fill-color);\n",
              "    height: 32px;\n",
              "    padding: 0;\n",
              "    width: 32px;\n",
              "  }\n",
              "\n",
              "  .colab-df-quickchart:hover {\n",
              "    background-color: var(--hover-bg-color);\n",
              "    box-shadow: 0 1px 2px rgba(60, 64, 67, 0.3), 0 1px 3px 1px rgba(60, 64, 67, 0.15);\n",
              "    fill: var(--button-hover-fill-color);\n",
              "  }\n",
              "\n",
              "  .colab-df-quickchart-complete:disabled,\n",
              "  .colab-df-quickchart-complete:disabled:hover {\n",
              "    background-color: var(--disabled-bg-color);\n",
              "    fill: var(--disabled-fill-color);\n",
              "    box-shadow: none;\n",
              "  }\n",
              "\n",
              "  .colab-df-spinner {\n",
              "    border: 2px solid var(--fill-color);\n",
              "    border-color: transparent;\n",
              "    border-bottom-color: var(--fill-color);\n",
              "    animation:\n",
              "      spin 1s steps(1) infinite;\n",
              "  }\n",
              "\n",
              "  @keyframes spin {\n",
              "    0% {\n",
              "      border-color: transparent;\n",
              "      border-bottom-color: var(--fill-color);\n",
              "      border-left-color: var(--fill-color);\n",
              "    }\n",
              "    20% {\n",
              "      border-color: transparent;\n",
              "      border-left-color: var(--fill-color);\n",
              "      border-top-color: var(--fill-color);\n",
              "    }\n",
              "    30% {\n",
              "      border-color: transparent;\n",
              "      border-left-color: var(--fill-color);\n",
              "      border-top-color: var(--fill-color);\n",
              "      border-right-color: var(--fill-color);\n",
              "    }\n",
              "    40% {\n",
              "      border-color: transparent;\n",
              "      border-right-color: var(--fill-color);\n",
              "      border-top-color: var(--fill-color);\n",
              "    }\n",
              "    60% {\n",
              "      border-color: transparent;\n",
              "      border-right-color: var(--fill-color);\n",
              "    }\n",
              "    80% {\n",
              "      border-color: transparent;\n",
              "      border-right-color: var(--fill-color);\n",
              "      border-bottom-color: var(--fill-color);\n",
              "    }\n",
              "    90% {\n",
              "      border-color: transparent;\n",
              "      border-bottom-color: var(--fill-color);\n",
              "    }\n",
              "  }\n",
              "</style>\n",
              "\n",
              "      <script>\n",
              "        async function quickchart(key) {\n",
              "          const quickchartButtonEl =\n",
              "            document.querySelector('#' + key + ' button');\n",
              "          quickchartButtonEl.disabled = true;  // To prevent multiple clicks.\n",
              "          quickchartButtonEl.classList.add('colab-df-spinner');\n",
              "          try {\n",
              "            const charts = await google.colab.kernel.invokeFunction(\n",
              "                'suggestCharts', [key], {});\n",
              "          } catch (error) {\n",
              "            console.error('Error during call to suggestCharts:', error);\n",
              "          }\n",
              "          quickchartButtonEl.classList.remove('colab-df-spinner');\n",
              "          quickchartButtonEl.classList.add('colab-df-quickchart-complete');\n",
              "        }\n",
              "        (() => {\n",
              "          let quickchartButtonEl =\n",
              "            document.querySelector('#df-4bd09b63-9025-4bec-b146-645191f3882b button');\n",
              "          quickchartButtonEl.style.display =\n",
              "            google.colab.kernel.accessAllowed ? 'block' : 'none';\n",
              "        })();\n",
              "      </script>\n",
              "    </div>\n",
              "\n",
              "    </div>\n",
              "  </div>\n"
            ],
            "application/vnd.google.colaboratory.intrinsic+json": {
              "type": "dataframe",
              "variable_name": "df_users",
              "summary": "{\n  \"name\": \"df_users\",\n  \"rows\": 20,\n  \"fields\": [\n    {\n      \"column\": \"user_id\",\n      \"properties\": {\n        \"dtype\": \"number\",\n        \"std\": 5,\n        \"min\": 1,\n        \"max\": 20,\n        \"num_unique_values\": 20,\n        \"samples\": [\n          1,\n          18,\n          16\n        ],\n        \"semantic_type\": \"\",\n        \"description\": \"\"\n      }\n    },\n    {\n      \"column\": \"age\",\n      \"properties\": {\n        \"dtype\": \"number\",\n        \"std\": 11,\n        \"min\": 19,\n        \"max\": 59,\n        \"num_unique_values\": 16,\n        \"samples\": [\n          38,\n          30,\n          59\n        ],\n        \"semantic_type\": \"\",\n        \"description\": \"\"\n      }\n    },\n    {\n      \"column\": \"gender\",\n      \"properties\": {\n        \"dtype\": \"category\",\n        \"num_unique_values\": 2,\n        \"samples\": [\n          \"male\",\n          \"female\"\n        ],\n        \"semantic_type\": \"\",\n        \"description\": \"\"\n      }\n    },\n    {\n      \"column\": \"country\",\n      \"properties\": {\n        \"dtype\": \"category\",\n        \"num_unique_values\": 5,\n        \"samples\": [\n          \"Jordan\",\n          \"UAE\"\n        ],\n        \"semantic_type\": \"\",\n        \"description\": \"\"\n      }\n    }\n  ]\n}"
            }
          },
          "metadata": {},
          "execution_count": 108
        }
      ],
      "source": [
        "df_users = pd.read_csv('assignment/users.csv')\n",
        "df_users.head()"
      ]
    },
    {
      "cell_type": "code",
      "source": [
        "df_episodes = pd.read_csv('assignment/episodes.csv')\n",
        "df_episodes.head()"
      ],
      "metadata": {
        "colab": {
          "base_uri": "https://localhost:8080/",
          "height": 206
        },
        "id": "1iaGdRYDdqca",
        "outputId": "86287717-d6f7-468e-c76d-dba865b37573"
      },
      "execution_count": null,
      "outputs": [
        {
          "output_type": "execute_result",
          "data": {
            "text/plain": [
              "   episode_id      title    category\n",
              "0           1  Episode 1    Religion\n",
              "1           2  Episode 2  Technology\n",
              "2           3  Episode 3     Society\n",
              "3           4  Episode 4        News\n",
              "4           5  Episode 5    Politics"
            ],
            "text/html": [
              "\n",
              "  <div id=\"df-520777ba-2301-4268-a2f2-c9592f351c94\" class=\"colab-df-container\">\n",
              "    <div>\n",
              "<style scoped>\n",
              "    .dataframe tbody tr th:only-of-type {\n",
              "        vertical-align: middle;\n",
              "    }\n",
              "\n",
              "    .dataframe tbody tr th {\n",
              "        vertical-align: top;\n",
              "    }\n",
              "\n",
              "    .dataframe thead th {\n",
              "        text-align: right;\n",
              "    }\n",
              "</style>\n",
              "<table border=\"1\" class=\"dataframe\">\n",
              "  <thead>\n",
              "    <tr style=\"text-align: right;\">\n",
              "      <th></th>\n",
              "      <th>episode_id</th>\n",
              "      <th>title</th>\n",
              "      <th>category</th>\n",
              "    </tr>\n",
              "  </thead>\n",
              "  <tbody>\n",
              "    <tr>\n",
              "      <th>0</th>\n",
              "      <td>1</td>\n",
              "      <td>Episode 1</td>\n",
              "      <td>Religion</td>\n",
              "    </tr>\n",
              "    <tr>\n",
              "      <th>1</th>\n",
              "      <td>2</td>\n",
              "      <td>Episode 2</td>\n",
              "      <td>Technology</td>\n",
              "    </tr>\n",
              "    <tr>\n",
              "      <th>2</th>\n",
              "      <td>3</td>\n",
              "      <td>Episode 3</td>\n",
              "      <td>Society</td>\n",
              "    </tr>\n",
              "    <tr>\n",
              "      <th>3</th>\n",
              "      <td>4</td>\n",
              "      <td>Episode 4</td>\n",
              "      <td>News</td>\n",
              "    </tr>\n",
              "    <tr>\n",
              "      <th>4</th>\n",
              "      <td>5</td>\n",
              "      <td>Episode 5</td>\n",
              "      <td>Politics</td>\n",
              "    </tr>\n",
              "  </tbody>\n",
              "</table>\n",
              "</div>\n",
              "    <div class=\"colab-df-buttons\">\n",
              "\n",
              "  <div class=\"colab-df-container\">\n",
              "    <button class=\"colab-df-convert\" onclick=\"convertToInteractive('df-520777ba-2301-4268-a2f2-c9592f351c94')\"\n",
              "            title=\"Convert this dataframe to an interactive table.\"\n",
              "            style=\"display:none;\">\n",
              "\n",
              "  <svg xmlns=\"http://www.w3.org/2000/svg\" height=\"24px\" viewBox=\"0 -960 960 960\">\n",
              "    <path d=\"M120-120v-720h720v720H120Zm60-500h600v-160H180v160Zm220 220h160v-160H400v160Zm0 220h160v-160H400v160ZM180-400h160v-160H180v160Zm440 0h160v-160H620v160ZM180-180h160v-160H180v160Zm440 0h160v-160H620v160Z\"/>\n",
              "  </svg>\n",
              "    </button>\n",
              "\n",
              "  <style>\n",
              "    .colab-df-container {\n",
              "      display:flex;\n",
              "      gap: 12px;\n",
              "    }\n",
              "\n",
              "    .colab-df-convert {\n",
              "      background-color: #E8F0FE;\n",
              "      border: none;\n",
              "      border-radius: 50%;\n",
              "      cursor: pointer;\n",
              "      display: none;\n",
              "      fill: #1967D2;\n",
              "      height: 32px;\n",
              "      padding: 0 0 0 0;\n",
              "      width: 32px;\n",
              "    }\n",
              "\n",
              "    .colab-df-convert:hover {\n",
              "      background-color: #E2EBFA;\n",
              "      box-shadow: 0px 1px 2px rgba(60, 64, 67, 0.3), 0px 1px 3px 1px rgba(60, 64, 67, 0.15);\n",
              "      fill: #174EA6;\n",
              "    }\n",
              "\n",
              "    .colab-df-buttons div {\n",
              "      margin-bottom: 4px;\n",
              "    }\n",
              "\n",
              "    [theme=dark] .colab-df-convert {\n",
              "      background-color: #3B4455;\n",
              "      fill: #D2E3FC;\n",
              "    }\n",
              "\n",
              "    [theme=dark] .colab-df-convert:hover {\n",
              "      background-color: #434B5C;\n",
              "      box-shadow: 0px 1px 3px 1px rgba(0, 0, 0, 0.15);\n",
              "      filter: drop-shadow(0px 1px 2px rgba(0, 0, 0, 0.3));\n",
              "      fill: #FFFFFF;\n",
              "    }\n",
              "  </style>\n",
              "\n",
              "    <script>\n",
              "      const buttonEl =\n",
              "        document.querySelector('#df-520777ba-2301-4268-a2f2-c9592f351c94 button.colab-df-convert');\n",
              "      buttonEl.style.display =\n",
              "        google.colab.kernel.accessAllowed ? 'block' : 'none';\n",
              "\n",
              "      async function convertToInteractive(key) {\n",
              "        const element = document.querySelector('#df-520777ba-2301-4268-a2f2-c9592f351c94');\n",
              "        const dataTable =\n",
              "          await google.colab.kernel.invokeFunction('convertToInteractive',\n",
              "                                                    [key], {});\n",
              "        if (!dataTable) return;\n",
              "\n",
              "        const docLinkHtml = 'Like what you see? Visit the ' +\n",
              "          '<a target=\"_blank\" href=https://colab.research.google.com/notebooks/data_table.ipynb>data table notebook</a>'\n",
              "          + ' to learn more about interactive tables.';\n",
              "        element.innerHTML = '';\n",
              "        dataTable['output_type'] = 'display_data';\n",
              "        await google.colab.output.renderOutput(dataTable, element);\n",
              "        const docLink = document.createElement('div');\n",
              "        docLink.innerHTML = docLinkHtml;\n",
              "        element.appendChild(docLink);\n",
              "      }\n",
              "    </script>\n",
              "  </div>\n",
              "\n",
              "\n",
              "    <div id=\"df-698148e3-479e-4a0b-ba90-04b2b2c45a9d\">\n",
              "      <button class=\"colab-df-quickchart\" onclick=\"quickchart('df-698148e3-479e-4a0b-ba90-04b2b2c45a9d')\"\n",
              "                title=\"Suggest charts\"\n",
              "                style=\"display:none;\">\n",
              "\n",
              "<svg xmlns=\"http://www.w3.org/2000/svg\" height=\"24px\"viewBox=\"0 0 24 24\"\n",
              "     width=\"24px\">\n",
              "    <g>\n",
              "        <path d=\"M19 3H5c-1.1 0-2 .9-2 2v14c0 1.1.9 2 2 2h14c1.1 0 2-.9 2-2V5c0-1.1-.9-2-2-2zM9 17H7v-7h2v7zm4 0h-2V7h2v10zm4 0h-2v-4h2v4z\"/>\n",
              "    </g>\n",
              "</svg>\n",
              "      </button>\n",
              "\n",
              "<style>\n",
              "  .colab-df-quickchart {\n",
              "      --bg-color: #E8F0FE;\n",
              "      --fill-color: #1967D2;\n",
              "      --hover-bg-color: #E2EBFA;\n",
              "      --hover-fill-color: #174EA6;\n",
              "      --disabled-fill-color: #AAA;\n",
              "      --disabled-bg-color: #DDD;\n",
              "  }\n",
              "\n",
              "  [theme=dark] .colab-df-quickchart {\n",
              "      --bg-color: #3B4455;\n",
              "      --fill-color: #D2E3FC;\n",
              "      --hover-bg-color: #434B5C;\n",
              "      --hover-fill-color: #FFFFFF;\n",
              "      --disabled-bg-color: #3B4455;\n",
              "      --disabled-fill-color: #666;\n",
              "  }\n",
              "\n",
              "  .colab-df-quickchart {\n",
              "    background-color: var(--bg-color);\n",
              "    border: none;\n",
              "    border-radius: 50%;\n",
              "    cursor: pointer;\n",
              "    display: none;\n",
              "    fill: var(--fill-color);\n",
              "    height: 32px;\n",
              "    padding: 0;\n",
              "    width: 32px;\n",
              "  }\n",
              "\n",
              "  .colab-df-quickchart:hover {\n",
              "    background-color: var(--hover-bg-color);\n",
              "    box-shadow: 0 1px 2px rgba(60, 64, 67, 0.3), 0 1px 3px 1px rgba(60, 64, 67, 0.15);\n",
              "    fill: var(--button-hover-fill-color);\n",
              "  }\n",
              "\n",
              "  .colab-df-quickchart-complete:disabled,\n",
              "  .colab-df-quickchart-complete:disabled:hover {\n",
              "    background-color: var(--disabled-bg-color);\n",
              "    fill: var(--disabled-fill-color);\n",
              "    box-shadow: none;\n",
              "  }\n",
              "\n",
              "  .colab-df-spinner {\n",
              "    border: 2px solid var(--fill-color);\n",
              "    border-color: transparent;\n",
              "    border-bottom-color: var(--fill-color);\n",
              "    animation:\n",
              "      spin 1s steps(1) infinite;\n",
              "  }\n",
              "\n",
              "  @keyframes spin {\n",
              "    0% {\n",
              "      border-color: transparent;\n",
              "      border-bottom-color: var(--fill-color);\n",
              "      border-left-color: var(--fill-color);\n",
              "    }\n",
              "    20% {\n",
              "      border-color: transparent;\n",
              "      border-left-color: var(--fill-color);\n",
              "      border-top-color: var(--fill-color);\n",
              "    }\n",
              "    30% {\n",
              "      border-color: transparent;\n",
              "      border-left-color: var(--fill-color);\n",
              "      border-top-color: var(--fill-color);\n",
              "      border-right-color: var(--fill-color);\n",
              "    }\n",
              "    40% {\n",
              "      border-color: transparent;\n",
              "      border-right-color: var(--fill-color);\n",
              "      border-top-color: var(--fill-color);\n",
              "    }\n",
              "    60% {\n",
              "      border-color: transparent;\n",
              "      border-right-color: var(--fill-color);\n",
              "    }\n",
              "    80% {\n",
              "      border-color: transparent;\n",
              "      border-right-color: var(--fill-color);\n",
              "      border-bottom-color: var(--fill-color);\n",
              "    }\n",
              "    90% {\n",
              "      border-color: transparent;\n",
              "      border-bottom-color: var(--fill-color);\n",
              "    }\n",
              "  }\n",
              "</style>\n",
              "\n",
              "      <script>\n",
              "        async function quickchart(key) {\n",
              "          const quickchartButtonEl =\n",
              "            document.querySelector('#' + key + ' button');\n",
              "          quickchartButtonEl.disabled = true;  // To prevent multiple clicks.\n",
              "          quickchartButtonEl.classList.add('colab-df-spinner');\n",
              "          try {\n",
              "            const charts = await google.colab.kernel.invokeFunction(\n",
              "                'suggestCharts', [key], {});\n",
              "          } catch (error) {\n",
              "            console.error('Error during call to suggestCharts:', error);\n",
              "          }\n",
              "          quickchartButtonEl.classList.remove('colab-df-spinner');\n",
              "          quickchartButtonEl.classList.add('colab-df-quickchart-complete');\n",
              "        }\n",
              "        (() => {\n",
              "          let quickchartButtonEl =\n",
              "            document.querySelector('#df-698148e3-479e-4a0b-ba90-04b2b2c45a9d button');\n",
              "          quickchartButtonEl.style.display =\n",
              "            google.colab.kernel.accessAllowed ? 'block' : 'none';\n",
              "        })();\n",
              "      </script>\n",
              "    </div>\n",
              "\n",
              "    </div>\n",
              "  </div>\n"
            ],
            "application/vnd.google.colaboratory.intrinsic+json": {
              "type": "dataframe",
              "variable_name": "df_episodes",
              "summary": "{\n  \"name\": \"df_episodes\",\n  \"rows\": 30,\n  \"fields\": [\n    {\n      \"column\": \"episode_id\",\n      \"properties\": {\n        \"dtype\": \"number\",\n        \"std\": 8,\n        \"min\": 1,\n        \"max\": 30,\n        \"num_unique_values\": 30,\n        \"samples\": [\n          28,\n          16,\n          24\n        ],\n        \"semantic_type\": \"\",\n        \"description\": \"\"\n      }\n    },\n    {\n      \"column\": \"title\",\n      \"properties\": {\n        \"dtype\": \"string\",\n        \"num_unique_values\": 30,\n        \"samples\": [\n          \"Episode 28\",\n          \"Episode 16\",\n          \"Episode 24\"\n        ],\n        \"semantic_type\": \"\",\n        \"description\": \"\"\n      }\n    },\n    {\n      \"column\": \"category\",\n      \"properties\": {\n        \"dtype\": \"category\",\n        \"num_unique_values\": 6,\n        \"samples\": [\n          \"Religion\",\n          \"Technology\",\n          \"Sports\"\n        ],\n        \"semantic_type\": \"\",\n        \"description\": \"\"\n      }\n    }\n  ]\n}"
            }
          },
          "metadata": {},
          "execution_count": 109
        }
      ]
    },
    {
      "cell_type": "code",
      "source": [
        "df_listens = pd.read_json('assignment/listens.json')\n",
        "df_listens.head()"
      ],
      "metadata": {
        "colab": {
          "base_uri": "https://localhost:8080/",
          "height": 206
        },
        "id": "kvXp3st8dvKM",
        "outputId": "31d62d01-3423-4aeb-fc5f-da1760b43226"
      },
      "execution_count": null,
      "outputs": [
        {
          "output_type": "execute_result",
          "data": {
            "text/plain": [
              "   user_id  episode_id  duration_seconds\n",
              "0       16          30                60\n",
              "1        6           8               120\n",
              "2        6          13                60\n",
              "3        6          27              1500\n",
              "4       17           9              1500"
            ],
            "text/html": [
              "\n",
              "  <div id=\"df-e47b6bdc-5dba-44fc-a2d0-168cc342dd17\" class=\"colab-df-container\">\n",
              "    <div>\n",
              "<style scoped>\n",
              "    .dataframe tbody tr th:only-of-type {\n",
              "        vertical-align: middle;\n",
              "    }\n",
              "\n",
              "    .dataframe tbody tr th {\n",
              "        vertical-align: top;\n",
              "    }\n",
              "\n",
              "    .dataframe thead th {\n",
              "        text-align: right;\n",
              "    }\n",
              "</style>\n",
              "<table border=\"1\" class=\"dataframe\">\n",
              "  <thead>\n",
              "    <tr style=\"text-align: right;\">\n",
              "      <th></th>\n",
              "      <th>user_id</th>\n",
              "      <th>episode_id</th>\n",
              "      <th>duration_seconds</th>\n",
              "    </tr>\n",
              "  </thead>\n",
              "  <tbody>\n",
              "    <tr>\n",
              "      <th>0</th>\n",
              "      <td>16</td>\n",
              "      <td>30</td>\n",
              "      <td>60</td>\n",
              "    </tr>\n",
              "    <tr>\n",
              "      <th>1</th>\n",
              "      <td>6</td>\n",
              "      <td>8</td>\n",
              "      <td>120</td>\n",
              "    </tr>\n",
              "    <tr>\n",
              "      <th>2</th>\n",
              "      <td>6</td>\n",
              "      <td>13</td>\n",
              "      <td>60</td>\n",
              "    </tr>\n",
              "    <tr>\n",
              "      <th>3</th>\n",
              "      <td>6</td>\n",
              "      <td>27</td>\n",
              "      <td>1500</td>\n",
              "    </tr>\n",
              "    <tr>\n",
              "      <th>4</th>\n",
              "      <td>17</td>\n",
              "      <td>9</td>\n",
              "      <td>1500</td>\n",
              "    </tr>\n",
              "  </tbody>\n",
              "</table>\n",
              "</div>\n",
              "    <div class=\"colab-df-buttons\">\n",
              "\n",
              "  <div class=\"colab-df-container\">\n",
              "    <button class=\"colab-df-convert\" onclick=\"convertToInteractive('df-e47b6bdc-5dba-44fc-a2d0-168cc342dd17')\"\n",
              "            title=\"Convert this dataframe to an interactive table.\"\n",
              "            style=\"display:none;\">\n",
              "\n",
              "  <svg xmlns=\"http://www.w3.org/2000/svg\" height=\"24px\" viewBox=\"0 -960 960 960\">\n",
              "    <path d=\"M120-120v-720h720v720H120Zm60-500h600v-160H180v160Zm220 220h160v-160H400v160Zm0 220h160v-160H400v160ZM180-400h160v-160H180v160Zm440 0h160v-160H620v160ZM180-180h160v-160H180v160Zm440 0h160v-160H620v160Z\"/>\n",
              "  </svg>\n",
              "    </button>\n",
              "\n",
              "  <style>\n",
              "    .colab-df-container {\n",
              "      display:flex;\n",
              "      gap: 12px;\n",
              "    }\n",
              "\n",
              "    .colab-df-convert {\n",
              "      background-color: #E8F0FE;\n",
              "      border: none;\n",
              "      border-radius: 50%;\n",
              "      cursor: pointer;\n",
              "      display: none;\n",
              "      fill: #1967D2;\n",
              "      height: 32px;\n",
              "      padding: 0 0 0 0;\n",
              "      width: 32px;\n",
              "    }\n",
              "\n",
              "    .colab-df-convert:hover {\n",
              "      background-color: #E2EBFA;\n",
              "      box-shadow: 0px 1px 2px rgba(60, 64, 67, 0.3), 0px 1px 3px 1px rgba(60, 64, 67, 0.15);\n",
              "      fill: #174EA6;\n",
              "    }\n",
              "\n",
              "    .colab-df-buttons div {\n",
              "      margin-bottom: 4px;\n",
              "    }\n",
              "\n",
              "    [theme=dark] .colab-df-convert {\n",
              "      background-color: #3B4455;\n",
              "      fill: #D2E3FC;\n",
              "    }\n",
              "\n",
              "    [theme=dark] .colab-df-convert:hover {\n",
              "      background-color: #434B5C;\n",
              "      box-shadow: 0px 1px 3px 1px rgba(0, 0, 0, 0.15);\n",
              "      filter: drop-shadow(0px 1px 2px rgba(0, 0, 0, 0.3));\n",
              "      fill: #FFFFFF;\n",
              "    }\n",
              "  </style>\n",
              "\n",
              "    <script>\n",
              "      const buttonEl =\n",
              "        document.querySelector('#df-e47b6bdc-5dba-44fc-a2d0-168cc342dd17 button.colab-df-convert');\n",
              "      buttonEl.style.display =\n",
              "        google.colab.kernel.accessAllowed ? 'block' : 'none';\n",
              "\n",
              "      async function convertToInteractive(key) {\n",
              "        const element = document.querySelector('#df-e47b6bdc-5dba-44fc-a2d0-168cc342dd17');\n",
              "        const dataTable =\n",
              "          await google.colab.kernel.invokeFunction('convertToInteractive',\n",
              "                                                    [key], {});\n",
              "        if (!dataTable) return;\n",
              "\n",
              "        const docLinkHtml = 'Like what you see? Visit the ' +\n",
              "          '<a target=\"_blank\" href=https://colab.research.google.com/notebooks/data_table.ipynb>data table notebook</a>'\n",
              "          + ' to learn more about interactive tables.';\n",
              "        element.innerHTML = '';\n",
              "        dataTable['output_type'] = 'display_data';\n",
              "        await google.colab.output.renderOutput(dataTable, element);\n",
              "        const docLink = document.createElement('div');\n",
              "        docLink.innerHTML = docLinkHtml;\n",
              "        element.appendChild(docLink);\n",
              "      }\n",
              "    </script>\n",
              "  </div>\n",
              "\n",
              "\n",
              "    <div id=\"df-f13aa1f0-4a83-4937-bc0f-4469d534f0ff\">\n",
              "      <button class=\"colab-df-quickchart\" onclick=\"quickchart('df-f13aa1f0-4a83-4937-bc0f-4469d534f0ff')\"\n",
              "                title=\"Suggest charts\"\n",
              "                style=\"display:none;\">\n",
              "\n",
              "<svg xmlns=\"http://www.w3.org/2000/svg\" height=\"24px\"viewBox=\"0 0 24 24\"\n",
              "     width=\"24px\">\n",
              "    <g>\n",
              "        <path d=\"M19 3H5c-1.1 0-2 .9-2 2v14c0 1.1.9 2 2 2h14c1.1 0 2-.9 2-2V5c0-1.1-.9-2-2-2zM9 17H7v-7h2v7zm4 0h-2V7h2v10zm4 0h-2v-4h2v4z\"/>\n",
              "    </g>\n",
              "</svg>\n",
              "      </button>\n",
              "\n",
              "<style>\n",
              "  .colab-df-quickchart {\n",
              "      --bg-color: #E8F0FE;\n",
              "      --fill-color: #1967D2;\n",
              "      --hover-bg-color: #E2EBFA;\n",
              "      --hover-fill-color: #174EA6;\n",
              "      --disabled-fill-color: #AAA;\n",
              "      --disabled-bg-color: #DDD;\n",
              "  }\n",
              "\n",
              "  [theme=dark] .colab-df-quickchart {\n",
              "      --bg-color: #3B4455;\n",
              "      --fill-color: #D2E3FC;\n",
              "      --hover-bg-color: #434B5C;\n",
              "      --hover-fill-color: #FFFFFF;\n",
              "      --disabled-bg-color: #3B4455;\n",
              "      --disabled-fill-color: #666;\n",
              "  }\n",
              "\n",
              "  .colab-df-quickchart {\n",
              "    background-color: var(--bg-color);\n",
              "    border: none;\n",
              "    border-radius: 50%;\n",
              "    cursor: pointer;\n",
              "    display: none;\n",
              "    fill: var(--fill-color);\n",
              "    height: 32px;\n",
              "    padding: 0;\n",
              "    width: 32px;\n",
              "  }\n",
              "\n",
              "  .colab-df-quickchart:hover {\n",
              "    background-color: var(--hover-bg-color);\n",
              "    box-shadow: 0 1px 2px rgba(60, 64, 67, 0.3), 0 1px 3px 1px rgba(60, 64, 67, 0.15);\n",
              "    fill: var(--button-hover-fill-color);\n",
              "  }\n",
              "\n",
              "  .colab-df-quickchart-complete:disabled,\n",
              "  .colab-df-quickchart-complete:disabled:hover {\n",
              "    background-color: var(--disabled-bg-color);\n",
              "    fill: var(--disabled-fill-color);\n",
              "    box-shadow: none;\n",
              "  }\n",
              "\n",
              "  .colab-df-spinner {\n",
              "    border: 2px solid var(--fill-color);\n",
              "    border-color: transparent;\n",
              "    border-bottom-color: var(--fill-color);\n",
              "    animation:\n",
              "      spin 1s steps(1) infinite;\n",
              "  }\n",
              "\n",
              "  @keyframes spin {\n",
              "    0% {\n",
              "      border-color: transparent;\n",
              "      border-bottom-color: var(--fill-color);\n",
              "      border-left-color: var(--fill-color);\n",
              "    }\n",
              "    20% {\n",
              "      border-color: transparent;\n",
              "      border-left-color: var(--fill-color);\n",
              "      border-top-color: var(--fill-color);\n",
              "    }\n",
              "    30% {\n",
              "      border-color: transparent;\n",
              "      border-left-color: var(--fill-color);\n",
              "      border-top-color: var(--fill-color);\n",
              "      border-right-color: var(--fill-color);\n",
              "    }\n",
              "    40% {\n",
              "      border-color: transparent;\n",
              "      border-right-color: var(--fill-color);\n",
              "      border-top-color: var(--fill-color);\n",
              "    }\n",
              "    60% {\n",
              "      border-color: transparent;\n",
              "      border-right-color: var(--fill-color);\n",
              "    }\n",
              "    80% {\n",
              "      border-color: transparent;\n",
              "      border-right-color: var(--fill-color);\n",
              "      border-bottom-color: var(--fill-color);\n",
              "    }\n",
              "    90% {\n",
              "      border-color: transparent;\n",
              "      border-bottom-color: var(--fill-color);\n",
              "    }\n",
              "  }\n",
              "</style>\n",
              "\n",
              "      <script>\n",
              "        async function quickchart(key) {\n",
              "          const quickchartButtonEl =\n",
              "            document.querySelector('#' + key + ' button');\n",
              "          quickchartButtonEl.disabled = true;  // To prevent multiple clicks.\n",
              "          quickchartButtonEl.classList.add('colab-df-spinner');\n",
              "          try {\n",
              "            const charts = await google.colab.kernel.invokeFunction(\n",
              "                'suggestCharts', [key], {});\n",
              "          } catch (error) {\n",
              "            console.error('Error during call to suggestCharts:', error);\n",
              "          }\n",
              "          quickchartButtonEl.classList.remove('colab-df-spinner');\n",
              "          quickchartButtonEl.classList.add('colab-df-quickchart-complete');\n",
              "        }\n",
              "        (() => {\n",
              "          let quickchartButtonEl =\n",
              "            document.querySelector('#df-f13aa1f0-4a83-4937-bc0f-4469d534f0ff button');\n",
              "          quickchartButtonEl.style.display =\n",
              "            google.colab.kernel.accessAllowed ? 'block' : 'none';\n",
              "        })();\n",
              "      </script>\n",
              "    </div>\n",
              "\n",
              "    </div>\n",
              "  </div>\n"
            ],
            "application/vnd.google.colaboratory.intrinsic+json": {
              "type": "dataframe",
              "variable_name": "df_listens",
              "summary": "{\n  \"name\": \"df_listens\",\n  \"rows\": 100,\n  \"fields\": [\n    {\n      \"column\": \"user_id\",\n      \"properties\": {\n        \"dtype\": \"number\",\n        \"std\": 5,\n        \"min\": 1,\n        \"max\": 20,\n        \"num_unique_values\": 19,\n        \"samples\": [\n          16,\n          15,\n          2\n        ],\n        \"semantic_type\": \"\",\n        \"description\": \"\"\n      }\n    },\n    {\n      \"column\": \"episode_id\",\n      \"properties\": {\n        \"dtype\": \"number\",\n        \"std\": 9,\n        \"min\": 1,\n        \"max\": 30,\n        \"num_unique_values\": 30,\n        \"samples\": [\n          5,\n          15,\n          14\n        ],\n        \"semantic_type\": \"\",\n        \"description\": \"\"\n      }\n    },\n    {\n      \"column\": \"duration_seconds\",\n      \"properties\": {\n        \"dtype\": \"number\",\n        \"std\": 689,\n        \"min\": 0,\n        \"max\": 1800,\n        \"num_unique_values\": 7,\n        \"samples\": [\n          60,\n          120,\n          1800\n        ],\n        \"semantic_type\": \"\",\n        \"description\": \"\"\n      }\n    }\n  ]\n}"
            }
          },
          "metadata": {},
          "execution_count": 110
        }
      ]
    },
    {
      "cell_type": "markdown",
      "source": [
        "\n",
        "\n",
        "---\n",
        "\n"
      ],
      "metadata": {
        "id": "rKUNHlPW2kwZ"
      }
    },
    {
      "cell_type": "markdown",
      "source": [
        "## 1.2.  data Cleaning\n"
      ],
      "metadata": {
        "id": "nPpE-AjufQ9O"
      }
    },
    {
      "cell_type": "markdown",
      "source": [
        "![data-cleaning.avif](data:image/avif;base64,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)"
      ],
      "metadata": {
        "id": "TZeramrlzVxN"
      }
    },
    {
      "cell_type": "markdown",
      "source": [
        "### Cleaning User dataframe"
      ],
      "metadata": {
        "id": "edi6pPgrfeb8"
      }
    },
    {
      "cell_type": "code",
      "source": [
        "df_users.info()"
      ],
      "metadata": {
        "colab": {
          "base_uri": "https://localhost:8080/"
        },
        "id": "eLb8AgCKgGIC",
        "outputId": "e03f5244-7a3b-47fe-f995-868c58e74b9e"
      },
      "execution_count": null,
      "outputs": [
        {
          "output_type": "stream",
          "name": "stdout",
          "text": [
            "<class 'pandas.core.frame.DataFrame'>\n",
            "RangeIndex: 20 entries, 0 to 19\n",
            "Data columns (total 4 columns):\n",
            " #   Column   Non-Null Count  Dtype \n",
            "---  ------   --------------  ----- \n",
            " 0   user_id  20 non-null     int64 \n",
            " 1   age      20 non-null     int64 \n",
            " 2   gender   20 non-null     object\n",
            " 3   country  20 non-null     object\n",
            "dtypes: int64(2), object(2)\n",
            "memory usage: 772.0+ bytes\n"
          ]
        }
      ]
    },
    {
      "cell_type": "code",
      "source": [
        "df_users.isnull().sum() #checking the number of null values"
      ],
      "metadata": {
        "colab": {
          "base_uri": "https://localhost:8080/",
          "height": 209
        },
        "id": "lGJm3eXNgNQX",
        "outputId": "8a03cea6-815f-4a43-f96c-f56eeaaaf896"
      },
      "execution_count": null,
      "outputs": [
        {
          "output_type": "execute_result",
          "data": {
            "text/plain": [
              "user_id    0\n",
              "age        0\n",
              "gender     0\n",
              "country    0\n",
              "dtype: int64"
            ],
            "text/html": [
              "<div>\n",
              "<style scoped>\n",
              "    .dataframe tbody tr th:only-of-type {\n",
              "        vertical-align: middle;\n",
              "    }\n",
              "\n",
              "    .dataframe tbody tr th {\n",
              "        vertical-align: top;\n",
              "    }\n",
              "\n",
              "    .dataframe thead th {\n",
              "        text-align: right;\n",
              "    }\n",
              "</style>\n",
              "<table border=\"1\" class=\"dataframe\">\n",
              "  <thead>\n",
              "    <tr style=\"text-align: right;\">\n",
              "      <th></th>\n",
              "      <th>0</th>\n",
              "    </tr>\n",
              "  </thead>\n",
              "  <tbody>\n",
              "    <tr>\n",
              "      <th>user_id</th>\n",
              "      <td>0</td>\n",
              "    </tr>\n",
              "    <tr>\n",
              "      <th>age</th>\n",
              "      <td>0</td>\n",
              "    </tr>\n",
              "    <tr>\n",
              "      <th>gender</th>\n",
              "      <td>0</td>\n",
              "    </tr>\n",
              "    <tr>\n",
              "      <th>country</th>\n",
              "      <td>0</td>\n",
              "    </tr>\n",
              "  </tbody>\n",
              "</table>\n",
              "</div><br><label><b>dtype:</b> int64</label>"
            ]
          },
          "metadata": {},
          "execution_count": 112
        }
      ]
    },
    {
      "cell_type": "code",
      "source": [
        "df_users.duplicated().sum() #checking the number of duplicated values"
      ],
      "metadata": {
        "colab": {
          "base_uri": "https://localhost:8080/"
        },
        "id": "FH_C63QhgQeG",
        "outputId": "cf7ca571-12df-47c2-c687-230a401ff08b"
      },
      "execution_count": null,
      "outputs": [
        {
          "output_type": "execute_result",
          "data": {
            "text/plain": [
              "np.int64(0)"
            ]
          },
          "metadata": {},
          "execution_count": 113
        }
      ]
    },
    {
      "cell_type": "markdown",
      "source": [
        "**Good it's already cleaned**"
      ],
      "metadata": {
        "id": "oT1i1qgqgW2H"
      }
    },
    {
      "cell_type": "markdown",
      "source": [
        "### Cleaning episodes dataframe"
      ],
      "metadata": {
        "id": "PIAMQIqogbRt"
      }
    },
    {
      "cell_type": "code",
      "source": [
        "df_episodes.info()"
      ],
      "metadata": {
        "colab": {
          "base_uri": "https://localhost:8080/"
        },
        "id": "KMBGScB0gTYc",
        "outputId": "d113c586-c2ee-46e0-c0eb-d15c128a1a0a"
      },
      "execution_count": null,
      "outputs": [
        {
          "output_type": "stream",
          "name": "stdout",
          "text": [
            "<class 'pandas.core.frame.DataFrame'>\n",
            "RangeIndex: 30 entries, 0 to 29\n",
            "Data columns (total 3 columns):\n",
            " #   Column      Non-Null Count  Dtype \n",
            "---  ------      --------------  ----- \n",
            " 0   episode_id  30 non-null     int64 \n",
            " 1   title       30 non-null     object\n",
            " 2   category    30 non-null     object\n",
            "dtypes: int64(1), object(2)\n",
            "memory usage: 852.0+ bytes\n"
          ]
        }
      ]
    },
    {
      "cell_type": "code",
      "source": [
        "df_episodes.isnull().sum()"
      ],
      "metadata": {
        "colab": {
          "base_uri": "https://localhost:8080/",
          "height": 178
        },
        "id": "i6I7wUiohXB7",
        "outputId": "d45d480b-6835-4249-c281-0d63bc0bef61"
      },
      "execution_count": null,
      "outputs": [
        {
          "output_type": "execute_result",
          "data": {
            "text/plain": [
              "episode_id    0\n",
              "title         0\n",
              "category      0\n",
              "dtype: int64"
            ],
            "text/html": [
              "<div>\n",
              "<style scoped>\n",
              "    .dataframe tbody tr th:only-of-type {\n",
              "        vertical-align: middle;\n",
              "    }\n",
              "\n",
              "    .dataframe tbody tr th {\n",
              "        vertical-align: top;\n",
              "    }\n",
              "\n",
              "    .dataframe thead th {\n",
              "        text-align: right;\n",
              "    }\n",
              "</style>\n",
              "<table border=\"1\" class=\"dataframe\">\n",
              "  <thead>\n",
              "    <tr style=\"text-align: right;\">\n",
              "      <th></th>\n",
              "      <th>0</th>\n",
              "    </tr>\n",
              "  </thead>\n",
              "  <tbody>\n",
              "    <tr>\n",
              "      <th>episode_id</th>\n",
              "      <td>0</td>\n",
              "    </tr>\n",
              "    <tr>\n",
              "      <th>title</th>\n",
              "      <td>0</td>\n",
              "    </tr>\n",
              "    <tr>\n",
              "      <th>category</th>\n",
              "      <td>0</td>\n",
              "    </tr>\n",
              "  </tbody>\n",
              "</table>\n",
              "</div><br><label><b>dtype:</b> int64</label>"
            ]
          },
          "metadata": {},
          "execution_count": 115
        }
      ]
    },
    {
      "cell_type": "code",
      "source": [
        "df_episodes.duplicated().sum()"
      ],
      "metadata": {
        "colab": {
          "base_uri": "https://localhost:8080/"
        },
        "id": "lF9QoS9RhaCC",
        "outputId": "a91e0d7c-a96a-49d9-ed9c-19fe55e2caa0"
      },
      "execution_count": null,
      "outputs": [
        {
          "output_type": "execute_result",
          "data": {
            "text/plain": [
              "np.int64(0)"
            ]
          },
          "metadata": {},
          "execution_count": 116
        }
      ]
    },
    {
      "cell_type": "markdown",
      "source": [
        "**Good it's already cleaned**"
      ],
      "metadata": {
        "id": "Bz6ec6AOhftb"
      }
    },
    {
      "cell_type": "markdown",
      "source": [
        "### Cleaning Listens dataframe"
      ],
      "metadata": {
        "id": "iRgP-lhAhiS5"
      }
    },
    {
      "cell_type": "code",
      "source": [
        "df_listens.info()"
      ],
      "metadata": {
        "colab": {
          "base_uri": "https://localhost:8080/"
        },
        "id": "1NwVUPCUhhrP",
        "outputId": "93fc10b7-5a5f-4dc9-e22c-2785ef7e6bbe"
      },
      "execution_count": null,
      "outputs": [
        {
          "output_type": "stream",
          "name": "stdout",
          "text": [
            "<class 'pandas.core.frame.DataFrame'>\n",
            "RangeIndex: 100 entries, 0 to 99\n",
            "Data columns (total 3 columns):\n",
            " #   Column            Non-Null Count  Dtype\n",
            "---  ------            --------------  -----\n",
            " 0   user_id           100 non-null    int64\n",
            " 1   episode_id        100 non-null    int64\n",
            " 2   duration_seconds  100 non-null    int64\n",
            "dtypes: int64(3)\n",
            "memory usage: 2.5 KB\n"
          ]
        }
      ]
    },
    {
      "cell_type": "code",
      "source": [
        "df_listens.isnull().sum()"
      ],
      "metadata": {
        "colab": {
          "base_uri": "https://localhost:8080/",
          "height": 178
        },
        "id": "DV65g5Pvh1DO",
        "outputId": "9f5ca5a4-4603-4a32-cada-a9c800974ad2"
      },
      "execution_count": null,
      "outputs": [
        {
          "output_type": "execute_result",
          "data": {
            "text/plain": [
              "user_id             0\n",
              "episode_id          0\n",
              "duration_seconds    0\n",
              "dtype: int64"
            ],
            "text/html": [
              "<div>\n",
              "<style scoped>\n",
              "    .dataframe tbody tr th:only-of-type {\n",
              "        vertical-align: middle;\n",
              "    }\n",
              "\n",
              "    .dataframe tbody tr th {\n",
              "        vertical-align: top;\n",
              "    }\n",
              "\n",
              "    .dataframe thead th {\n",
              "        text-align: right;\n",
              "    }\n",
              "</style>\n",
              "<table border=\"1\" class=\"dataframe\">\n",
              "  <thead>\n",
              "    <tr style=\"text-align: right;\">\n",
              "      <th></th>\n",
              "      <th>0</th>\n",
              "    </tr>\n",
              "  </thead>\n",
              "  <tbody>\n",
              "    <tr>\n",
              "      <th>user_id</th>\n",
              "      <td>0</td>\n",
              "    </tr>\n",
              "    <tr>\n",
              "      <th>episode_id</th>\n",
              "      <td>0</td>\n",
              "    </tr>\n",
              "    <tr>\n",
              "      <th>duration_seconds</th>\n",
              "      <td>0</td>\n",
              "    </tr>\n",
              "  </tbody>\n",
              "</table>\n",
              "</div><br><label><b>dtype:</b> int64</label>"
            ]
          },
          "metadata": {},
          "execution_count": 118
        }
      ]
    },
    {
      "cell_type": "code",
      "source": [
        "df_listens.duplicated().sum()"
      ],
      "metadata": {
        "colab": {
          "base_uri": "https://localhost:8080/"
        },
        "id": "i7sJfKVIh3Me",
        "outputId": "18bebf48-e375-4dde-bbd9-c0e09c785c5f"
      },
      "execution_count": null,
      "outputs": [
        {
          "output_type": "execute_result",
          "data": {
            "text/plain": [
              "np.int64(0)"
            ]
          },
          "metadata": {},
          "execution_count": 119
        }
      ]
    },
    {
      "cell_type": "markdown",
      "source": [
        "### **All Dataframes are already cleaned**"
      ],
      "metadata": {
        "id": "Up0JwyN5h-rb"
      }
    },
    {
      "cell_type": "markdown",
      "source": [
        "\n",
        "\n",
        "---\n",
        "\n"
      ],
      "metadata": {
        "id": "g1VvfsSE2nfG"
      }
    },
    {
      "cell_type": "markdown",
      "source": [
        "### 1.3 Joining the data together"
      ],
      "metadata": {
        "id": "uA_iYme_kEse"
      }
    },
    {
      "cell_type": "code",
      "source": [
        "df = pd.merge(df_listens, df_episodes, on='episode_id') #compining df_users , df_episodes using the shared column= episode_id\n",
        "df = pd.merge(df, df_users, on='user_id') #compining df , df_users using the shared column= user_id\n",
        "df.head()\n",
        "# Note that we could merge them using pandasql library also"
      ],
      "metadata": {
        "colab": {
          "base_uri": "https://localhost:8080/",
          "height": 206
        },
        "id": "Z0sQV5TXkPDC",
        "outputId": "135afb68-e827-4487-c182-72c44153d678"
      },
      "execution_count": null,
      "outputs": [
        {
          "output_type": "execute_result",
          "data": {
            "text/plain": [
              "   user_id  episode_id  duration_seconds       title category  age  gender  \\\n",
              "0       16          30                60  Episode 30   Sports   24  female   \n",
              "1        6           8               120   Episode 8   Sports   59    male   \n",
              "2        6          13                60  Episode 13  Society   59    male   \n",
              "3        6          27              1500  Episode 27     News   59    male   \n",
              "4       17           9              1500   Episode 9   Sports   21    male   \n",
              "\n",
              "        country  \n",
              "0  Saudi Arabia  \n",
              "1       Morocco  \n",
              "2       Morocco  \n",
              "3       Morocco  \n",
              "4  Saudi Arabia  "
            ],
            "text/html": [
              "\n",
              "  <div id=\"df-81ef2795-876d-47b8-ba06-289b46210690\" class=\"colab-df-container\">\n",
              "    <div>\n",
              "<style scoped>\n",
              "    .dataframe tbody tr th:only-of-type {\n",
              "        vertical-align: middle;\n",
              "    }\n",
              "\n",
              "    .dataframe tbody tr th {\n",
              "        vertical-align: top;\n",
              "    }\n",
              "\n",
              "    .dataframe thead th {\n",
              "        text-align: right;\n",
              "    }\n",
              "</style>\n",
              "<table border=\"1\" class=\"dataframe\">\n",
              "  <thead>\n",
              "    <tr style=\"text-align: right;\">\n",
              "      <th></th>\n",
              "      <th>user_id</th>\n",
              "      <th>episode_id</th>\n",
              "      <th>duration_seconds</th>\n",
              "      <th>title</th>\n",
              "      <th>category</th>\n",
              "      <th>age</th>\n",
              "      <th>gender</th>\n",
              "      <th>country</th>\n",
              "    </tr>\n",
              "  </thead>\n",
              "  <tbody>\n",
              "    <tr>\n",
              "      <th>0</th>\n",
              "      <td>16</td>\n",
              "      <td>30</td>\n",
              "      <td>60</td>\n",
              "      <td>Episode 30</td>\n",
              "      <td>Sports</td>\n",
              "      <td>24</td>\n",
              "      <td>female</td>\n",
              "      <td>Saudi Arabia</td>\n",
              "    </tr>\n",
              "    <tr>\n",
              "      <th>1</th>\n",
              "      <td>6</td>\n",
              "      <td>8</td>\n",
              "      <td>120</td>\n",
              "      <td>Episode 8</td>\n",
              "      <td>Sports</td>\n",
              "      <td>59</td>\n",
              "      <td>male</td>\n",
              "      <td>Morocco</td>\n",
              "    </tr>\n",
              "    <tr>\n",
              "      <th>2</th>\n",
              "      <td>6</td>\n",
              "      <td>13</td>\n",
              "      <td>60</td>\n",
              "      <td>Episode 13</td>\n",
              "      <td>Society</td>\n",
              "      <td>59</td>\n",
              "      <td>male</td>\n",
              "      <td>Morocco</td>\n",
              "    </tr>\n",
              "    <tr>\n",
              "      <th>3</th>\n",
              "      <td>6</td>\n",
              "      <td>27</td>\n",
              "      <td>1500</td>\n",
              "      <td>Episode 27</td>\n",
              "      <td>News</td>\n",
              "      <td>59</td>\n",
              "      <td>male</td>\n",
              "      <td>Morocco</td>\n",
              "    </tr>\n",
              "    <tr>\n",
              "      <th>4</th>\n",
              "      <td>17</td>\n",
              "      <td>9</td>\n",
              "      <td>1500</td>\n",
              "      <td>Episode 9</td>\n",
              "      <td>Sports</td>\n",
              "      <td>21</td>\n",
              "      <td>male</td>\n",
              "      <td>Saudi Arabia</td>\n",
              "    </tr>\n",
              "  </tbody>\n",
              "</table>\n",
              "</div>\n",
              "    <div class=\"colab-df-buttons\">\n",
              "\n",
              "  <div class=\"colab-df-container\">\n",
              "    <button class=\"colab-df-convert\" onclick=\"convertToInteractive('df-81ef2795-876d-47b8-ba06-289b46210690')\"\n",
              "            title=\"Convert this dataframe to an interactive table.\"\n",
              "            style=\"display:none;\">\n",
              "\n",
              "  <svg xmlns=\"http://www.w3.org/2000/svg\" height=\"24px\" viewBox=\"0 -960 960 960\">\n",
              "    <path d=\"M120-120v-720h720v720H120Zm60-500h600v-160H180v160Zm220 220h160v-160H400v160Zm0 220h160v-160H400v160ZM180-400h160v-160H180v160Zm440 0h160v-160H620v160ZM180-180h160v-160H180v160Zm440 0h160v-160H620v160Z\"/>\n",
              "  </svg>\n",
              "    </button>\n",
              "\n",
              "  <style>\n",
              "    .colab-df-container {\n",
              "      display:flex;\n",
              "      gap: 12px;\n",
              "    }\n",
              "\n",
              "    .colab-df-convert {\n",
              "      background-color: #E8F0FE;\n",
              "      border: none;\n",
              "      border-radius: 50%;\n",
              "      cursor: pointer;\n",
              "      display: none;\n",
              "      fill: #1967D2;\n",
              "      height: 32px;\n",
              "      padding: 0 0 0 0;\n",
              "      width: 32px;\n",
              "    }\n",
              "\n",
              "    .colab-df-convert:hover {\n",
              "      background-color: #E2EBFA;\n",
              "      box-shadow: 0px 1px 2px rgba(60, 64, 67, 0.3), 0px 1px 3px 1px rgba(60, 64, 67, 0.15);\n",
              "      fill: #174EA6;\n",
              "    }\n",
              "\n",
              "    .colab-df-buttons div {\n",
              "      margin-bottom: 4px;\n",
              "    }\n",
              "\n",
              "    [theme=dark] .colab-df-convert {\n",
              "      background-color: #3B4455;\n",
              "      fill: #D2E3FC;\n",
              "    }\n",
              "\n",
              "    [theme=dark] .colab-df-convert:hover {\n",
              "      background-color: #434B5C;\n",
              "      box-shadow: 0px 1px 3px 1px rgba(0, 0, 0, 0.15);\n",
              "      filter: drop-shadow(0px 1px 2px rgba(0, 0, 0, 0.3));\n",
              "      fill: #FFFFFF;\n",
              "    }\n",
              "  </style>\n",
              "\n",
              "    <script>\n",
              "      const buttonEl =\n",
              "        document.querySelector('#df-81ef2795-876d-47b8-ba06-289b46210690 button.colab-df-convert');\n",
              "      buttonEl.style.display =\n",
              "        google.colab.kernel.accessAllowed ? 'block' : 'none';\n",
              "\n",
              "      async function convertToInteractive(key) {\n",
              "        const element = document.querySelector('#df-81ef2795-876d-47b8-ba06-289b46210690');\n",
              "        const dataTable =\n",
              "          await google.colab.kernel.invokeFunction('convertToInteractive',\n",
              "                                                    [key], {});\n",
              "        if (!dataTable) return;\n",
              "\n",
              "        const docLinkHtml = 'Like what you see? Visit the ' +\n",
              "          '<a target=\"_blank\" href=https://colab.research.google.com/notebooks/data_table.ipynb>data table notebook</a>'\n",
              "          + ' to learn more about interactive tables.';\n",
              "        element.innerHTML = '';\n",
              "        dataTable['output_type'] = 'display_data';\n",
              "        await google.colab.output.renderOutput(dataTable, element);\n",
              "        const docLink = document.createElement('div');\n",
              "        docLink.innerHTML = docLinkHtml;\n",
              "        element.appendChild(docLink);\n",
              "      }\n",
              "    </script>\n",
              "  </div>\n",
              "\n",
              "\n",
              "    <div id=\"df-1ba93460-5c59-4c4f-b99d-fd4c5f3208a4\">\n",
              "      <button class=\"colab-df-quickchart\" onclick=\"quickchart('df-1ba93460-5c59-4c4f-b99d-fd4c5f3208a4')\"\n",
              "                title=\"Suggest charts\"\n",
              "                style=\"display:none;\">\n",
              "\n",
              "<svg xmlns=\"http://www.w3.org/2000/svg\" height=\"24px\"viewBox=\"0 0 24 24\"\n",
              "     width=\"24px\">\n",
              "    <g>\n",
              "        <path d=\"M19 3H5c-1.1 0-2 .9-2 2v14c0 1.1.9 2 2 2h14c1.1 0 2-.9 2-2V5c0-1.1-.9-2-2-2zM9 17H7v-7h2v7zm4 0h-2V7h2v10zm4 0h-2v-4h2v4z\"/>\n",
              "    </g>\n",
              "</svg>\n",
              "      </button>\n",
              "\n",
              "<style>\n",
              "  .colab-df-quickchart {\n",
              "      --bg-color: #E8F0FE;\n",
              "      --fill-color: #1967D2;\n",
              "      --hover-bg-color: #E2EBFA;\n",
              "      --hover-fill-color: #174EA6;\n",
              "      --disabled-fill-color: #AAA;\n",
              "      --disabled-bg-color: #DDD;\n",
              "  }\n",
              "\n",
              "  [theme=dark] .colab-df-quickchart {\n",
              "      --bg-color: #3B4455;\n",
              "      --fill-color: #D2E3FC;\n",
              "      --hover-bg-color: #434B5C;\n",
              "      --hover-fill-color: #FFFFFF;\n",
              "      --disabled-bg-color: #3B4455;\n",
              "      --disabled-fill-color: #666;\n",
              "  }\n",
              "\n",
              "  .colab-df-quickchart {\n",
              "    background-color: var(--bg-color);\n",
              "    border: none;\n",
              "    border-radius: 50%;\n",
              "    cursor: pointer;\n",
              "    display: none;\n",
              "    fill: var(--fill-color);\n",
              "    height: 32px;\n",
              "    padding: 0;\n",
              "    width: 32px;\n",
              "  }\n",
              "\n",
              "  .colab-df-quickchart:hover {\n",
              "    background-color: var(--hover-bg-color);\n",
              "    box-shadow: 0 1px 2px rgba(60, 64, 67, 0.3), 0 1px 3px 1px rgba(60, 64, 67, 0.15);\n",
              "    fill: var(--button-hover-fill-color);\n",
              "  }\n",
              "\n",
              "  .colab-df-quickchart-complete:disabled,\n",
              "  .colab-df-quickchart-complete:disabled:hover {\n",
              "    background-color: var(--disabled-bg-color);\n",
              "    fill: var(--disabled-fill-color);\n",
              "    box-shadow: none;\n",
              "  }\n",
              "\n",
              "  .colab-df-spinner {\n",
              "    border: 2px solid var(--fill-color);\n",
              "    border-color: transparent;\n",
              "    border-bottom-color: var(--fill-color);\n",
              "    animation:\n",
              "      spin 1s steps(1) infinite;\n",
              "  }\n",
              "\n",
              "  @keyframes spin {\n",
              "    0% {\n",
              "      border-color: transparent;\n",
              "      border-bottom-color: var(--fill-color);\n",
              "      border-left-color: var(--fill-color);\n",
              "    }\n",
              "    20% {\n",
              "      border-color: transparent;\n",
              "      border-left-color: var(--fill-color);\n",
              "      border-top-color: var(--fill-color);\n",
              "    }\n",
              "    30% {\n",
              "      border-color: transparent;\n",
              "      border-left-color: var(--fill-color);\n",
              "      border-top-color: var(--fill-color);\n",
              "      border-right-color: var(--fill-color);\n",
              "    }\n",
              "    40% {\n",
              "      border-color: transparent;\n",
              "      border-right-color: var(--fill-color);\n",
              "      border-top-color: var(--fill-color);\n",
              "    }\n",
              "    60% {\n",
              "      border-color: transparent;\n",
              "      border-right-color: var(--fill-color);\n",
              "    }\n",
              "    80% {\n",
              "      border-color: transparent;\n",
              "      border-right-color: var(--fill-color);\n",
              "      border-bottom-color: var(--fill-color);\n",
              "    }\n",
              "    90% {\n",
              "      border-color: transparent;\n",
              "      border-bottom-color: var(--fill-color);\n",
              "    }\n",
              "  }\n",
              "</style>\n",
              "\n",
              "      <script>\n",
              "        async function quickchart(key) {\n",
              "          const quickchartButtonEl =\n",
              "            document.querySelector('#' + key + ' button');\n",
              "          quickchartButtonEl.disabled = true;  // To prevent multiple clicks.\n",
              "          quickchartButtonEl.classList.add('colab-df-spinner');\n",
              "          try {\n",
              "            const charts = await google.colab.kernel.invokeFunction(\n",
              "                'suggestCharts', [key], {});\n",
              "          } catch (error) {\n",
              "            console.error('Error during call to suggestCharts:', error);\n",
              "          }\n",
              "          quickchartButtonEl.classList.remove('colab-df-spinner');\n",
              "          quickchartButtonEl.classList.add('colab-df-quickchart-complete');\n",
              "        }\n",
              "        (() => {\n",
              "          let quickchartButtonEl =\n",
              "            document.querySelector('#df-1ba93460-5c59-4c4f-b99d-fd4c5f3208a4 button');\n",
              "          quickchartButtonEl.style.display =\n",
              "            google.colab.kernel.accessAllowed ? 'block' : 'none';\n",
              "        })();\n",
              "      </script>\n",
              "    </div>\n",
              "\n",
              "    </div>\n",
              "  </div>\n"
            ],
            "application/vnd.google.colaboratory.intrinsic+json": {
              "type": "dataframe",
              "summary": "{\n  \"name\": \"# Note that we could merge them using pandasql library also\",\n  \"rows\": 5,\n  \"fields\": [\n    {\n      \"column\": \"user_id\",\n      \"properties\": {\n        \"dtype\": \"number\",\n        \"std\": 5,\n        \"min\": 6,\n        \"max\": 17,\n        \"num_unique_values\": 3,\n        \"samples\": [\n          16,\n          6,\n          17\n        ],\n        \"semantic_type\": \"\",\n        \"description\": \"\"\n      }\n    },\n    {\n      \"column\": \"episode_id\",\n      \"properties\": {\n        \"dtype\": \"number\",\n        \"std\": 10,\n        \"min\": 8,\n        \"max\": 30,\n        \"num_unique_values\": 5,\n        \"samples\": [\n          8,\n          9,\n          13\n        ],\n        \"semantic_type\": \"\",\n        \"description\": \"\"\n      }\n    },\n    {\n      \"column\": \"duration_seconds\",\n      \"properties\": {\n        \"dtype\": \"number\",\n        \"std\": 778,\n        \"min\": 60,\n        \"max\": 1500,\n        \"num_unique_values\": 3,\n        \"samples\": [\n          60,\n          120,\n          1500\n        ],\n        \"semantic_type\": \"\",\n        \"description\": \"\"\n      }\n    },\n    {\n      \"column\": \"title\",\n      \"properties\": {\n        \"dtype\": \"string\",\n        \"num_unique_values\": 5,\n        \"samples\": [\n          \"Episode 8\",\n          \"Episode 9\",\n          \"Episode 13\"\n        ],\n        \"semantic_type\": \"\",\n        \"description\": \"\"\n      }\n    },\n    {\n      \"column\": \"category\",\n      \"properties\": {\n        \"dtype\": \"string\",\n        \"num_unique_values\": 3,\n        \"samples\": [\n          \"Sports\",\n          \"Society\",\n          \"News\"\n        ],\n        \"semantic_type\": \"\",\n        \"description\": \"\"\n      }\n    },\n    {\n      \"column\": \"age\",\n      \"properties\": {\n        \"dtype\": \"number\",\n        \"std\": 20,\n        \"min\": 21,\n        \"max\": 59,\n        \"num_unique_values\": 3,\n        \"samples\": [\n          24,\n          59,\n          21\n        ],\n        \"semantic_type\": \"\",\n        \"description\": \"\"\n      }\n    },\n    {\n      \"column\": \"gender\",\n      \"properties\": {\n        \"dtype\": \"category\",\n        \"num_unique_values\": 2,\n        \"samples\": [\n          \"male\",\n          \"female\"\n        ],\n        \"semantic_type\": \"\",\n        \"description\": \"\"\n      }\n    },\n    {\n      \"column\": \"country\",\n      \"properties\": {\n        \"dtype\": \"category\",\n        \"num_unique_values\": 2,\n        \"samples\": [\n          \"Morocco\",\n          \"Saudi Arabia\"\n        ],\n        \"semantic_type\": \"\",\n        \"description\": \"\"\n      }\n    }\n  ]\n}"
            }
          },
          "metadata": {},
          "execution_count": 120
        }
      ]
    },
    {
      "cell_type": "markdown",
      "source": [
        "**Now we have merged the data**"
      ],
      "metadata": {
        "id": "TIm4UIplkpKU"
      }
    },
    {
      "cell_type": "markdown",
      "source": [
        "\n",
        "\n",
        "---\n",
        "\n",
        "\n",
        "\n",
        "---\n",
        "\n"
      ],
      "metadata": {
        "id": "Oap5jAt42fmY"
      }
    },
    {
      "cell_type": "markdown",
      "source": [
        "## Task #2 (Analysis Data)"
      ],
      "metadata": {
        "id": "mdJvt2fhj1TR"
      }
    },
    {
      "cell_type": "markdown",
      "source": [
        "**In This Phase we should answer the following questions:**\n",
        "\n",
        "*  2.1  Which categories of podcasts are the most listened to? (ما أكثر فئات الحلقات استماعًا؟)\n",
        "*  2.2 What is the difference in the average listening time between males and females? (ما الفرق في متوسط مدة الاستماع بين الذكور والإناث؟)\n",
        "\n",
        "* 2.3 What is the average number of episodes listened to by one user?  ( ما متوسط عدد الحلقات التي يستمع لها المستخدم الواحد؟)\n",
        "\n",
        "* 2.4 Considering the available data, what type of additional analysis or metric do you think would be useful for understanding user behavior? And why? (بالنظر إلى البيانات المتوفرة، ما هو نوع التحليل أو المؤشر الإضافي الذي تعتقد أنه سيكون مفيدًا لفهم سلوك المستخدم؟ ولماذا؟)\n",
        "\n"
      ],
      "metadata": {
        "id": "2UXfu23gmyXR"
      }
    },
    {
      "cell_type": "markdown",
      "source": [
        "### Statistical Summary"
      ],
      "metadata": {
        "id": "7xDMLQXEmNnQ"
      }
    },
    {
      "cell_type": "code",
      "source": [
        "df.info()"
      ],
      "metadata": {
        "colab": {
          "base_uri": "https://localhost:8080/"
        },
        "id": "rdPl_d8-lTjU",
        "outputId": "673ddb57-8fba-404e-a743-1a850de351d8"
      },
      "execution_count": null,
      "outputs": [
        {
          "output_type": "stream",
          "name": "stdout",
          "text": [
            "<class 'pandas.core.frame.DataFrame'>\n",
            "RangeIndex: 100 entries, 0 to 99\n",
            "Data columns (total 8 columns):\n",
            " #   Column            Non-Null Count  Dtype \n",
            "---  ------            --------------  ----- \n",
            " 0   user_id           100 non-null    int64 \n",
            " 1   episode_id        100 non-null    int64 \n",
            " 2   duration_seconds  100 non-null    int64 \n",
            " 3   title             100 non-null    object\n",
            " 4   category          100 non-null    object\n",
            " 5   age               100 non-null    int64 \n",
            " 6   gender            100 non-null    object\n",
            " 7   country           100 non-null    object\n",
            "dtypes: int64(4), object(4)\n",
            "memory usage: 6.4+ KB\n"
          ]
        }
      ]
    },
    {
      "cell_type": "code",
      "source": [
        "df.describe()"
      ],
      "metadata": {
        "colab": {
          "base_uri": "https://localhost:8080/",
          "height": 300
        },
        "id": "s6mmq7QymXIY",
        "outputId": "7f1acbfb-3a20-4158-d1b6-2b49e5bd16f4"
      },
      "execution_count": null,
      "outputs": [
        {
          "output_type": "execute_result",
          "data": {
            "text/plain": [
              "          user_id  episode_id  duration_seconds         age\n",
              "count  100.000000   100.00000        100.000000  100.000000\n",
              "mean    10.760000    15.50000        669.000000   39.760000\n",
              "std      5.976587     9.64784        689.420046   11.849323\n",
              "min      1.000000     1.00000          0.000000   19.000000\n",
              "25%      6.000000     7.00000         60.000000   30.000000\n",
              "50%     11.000000    14.00000        300.000000   42.000000\n",
              "75%     16.000000    25.00000       1500.000000   51.000000\n",
              "max     20.000000    30.00000       1800.000000   59.000000"
            ],
            "text/html": [
              "\n",
              "  <div id=\"df-219eb923-4165-485b-90da-3009bbeb72b0\" class=\"colab-df-container\">\n",
              "    <div>\n",
              "<style scoped>\n",
              "    .dataframe tbody tr th:only-of-type {\n",
              "        vertical-align: middle;\n",
              "    }\n",
              "\n",
              "    .dataframe tbody tr th {\n",
              "        vertical-align: top;\n",
              "    }\n",
              "\n",
              "    .dataframe thead th {\n",
              "        text-align: right;\n",
              "    }\n",
              "</style>\n",
              "<table border=\"1\" class=\"dataframe\">\n",
              "  <thead>\n",
              "    <tr style=\"text-align: right;\">\n",
              "      <th></th>\n",
              "      <th>user_id</th>\n",
              "      <th>episode_id</th>\n",
              "      <th>duration_seconds</th>\n",
              "      <th>age</th>\n",
              "    </tr>\n",
              "  </thead>\n",
              "  <tbody>\n",
              "    <tr>\n",
              "      <th>count</th>\n",
              "      <td>100.000000</td>\n",
              "      <td>100.00000</td>\n",
              "      <td>100.000000</td>\n",
              "      <td>100.000000</td>\n",
              "    </tr>\n",
              "    <tr>\n",
              "      <th>mean</th>\n",
              "      <td>10.760000</td>\n",
              "      <td>15.50000</td>\n",
              "      <td>669.000000</td>\n",
              "      <td>39.760000</td>\n",
              "    </tr>\n",
              "    <tr>\n",
              "      <th>std</th>\n",
              "      <td>5.976587</td>\n",
              "      <td>9.64784</td>\n",
              "      <td>689.420046</td>\n",
              "      <td>11.849323</td>\n",
              "    </tr>\n",
              "    <tr>\n",
              "      <th>min</th>\n",
              "      <td>1.000000</td>\n",
              "      <td>1.00000</td>\n",
              "      <td>0.000000</td>\n",
              "      <td>19.000000</td>\n",
              "    </tr>\n",
              "    <tr>\n",
              "      <th>25%</th>\n",
              "      <td>6.000000</td>\n",
              "      <td>7.00000</td>\n",
              "      <td>60.000000</td>\n",
              "      <td>30.000000</td>\n",
              "    </tr>\n",
              "    <tr>\n",
              "      <th>50%</th>\n",
              "      <td>11.000000</td>\n",
              "      <td>14.00000</td>\n",
              "      <td>300.000000</td>\n",
              "      <td>42.000000</td>\n",
              "    </tr>\n",
              "    <tr>\n",
              "      <th>75%</th>\n",
              "      <td>16.000000</td>\n",
              "      <td>25.00000</td>\n",
              "      <td>1500.000000</td>\n",
              "      <td>51.000000</td>\n",
              "    </tr>\n",
              "    <tr>\n",
              "      <th>max</th>\n",
              "      <td>20.000000</td>\n",
              "      <td>30.00000</td>\n",
              "      <td>1800.000000</td>\n",
              "      <td>59.000000</td>\n",
              "    </tr>\n",
              "  </tbody>\n",
              "</table>\n",
              "</div>\n",
              "    <div class=\"colab-df-buttons\">\n",
              "\n",
              "  <div class=\"colab-df-container\">\n",
              "    <button class=\"colab-df-convert\" onclick=\"convertToInteractive('df-219eb923-4165-485b-90da-3009bbeb72b0')\"\n",
              "            title=\"Convert this dataframe to an interactive table.\"\n",
              "            style=\"display:none;\">\n",
              "\n",
              "  <svg xmlns=\"http://www.w3.org/2000/svg\" height=\"24px\" viewBox=\"0 -960 960 960\">\n",
              "    <path d=\"M120-120v-720h720v720H120Zm60-500h600v-160H180v160Zm220 220h160v-160H400v160Zm0 220h160v-160H400v160ZM180-400h160v-160H180v160Zm440 0h160v-160H620v160ZM180-180h160v-160H180v160Zm440 0h160v-160H620v160Z\"/>\n",
              "  </svg>\n",
              "    </button>\n",
              "\n",
              "  <style>\n",
              "    .colab-df-container {\n",
              "      display:flex;\n",
              "      gap: 12px;\n",
              "    }\n",
              "\n",
              "    .colab-df-convert {\n",
              "      background-color: #E8F0FE;\n",
              "      border: none;\n",
              "      border-radius: 50%;\n",
              "      cursor: pointer;\n",
              "      display: none;\n",
              "      fill: #1967D2;\n",
              "      height: 32px;\n",
              "      padding: 0 0 0 0;\n",
              "      width: 32px;\n",
              "    }\n",
              "\n",
              "    .colab-df-convert:hover {\n",
              "      background-color: #E2EBFA;\n",
              "      box-shadow: 0px 1px 2px rgba(60, 64, 67, 0.3), 0px 1px 3px 1px rgba(60, 64, 67, 0.15);\n",
              "      fill: #174EA6;\n",
              "    }\n",
              "\n",
              "    .colab-df-buttons div {\n",
              "      margin-bottom: 4px;\n",
              "    }\n",
              "\n",
              "    [theme=dark] .colab-df-convert {\n",
              "      background-color: #3B4455;\n",
              "      fill: #D2E3FC;\n",
              "    }\n",
              "\n",
              "    [theme=dark] .colab-df-convert:hover {\n",
              "      background-color: #434B5C;\n",
              "      box-shadow: 0px 1px 3px 1px rgba(0, 0, 0, 0.15);\n",
              "      filter: drop-shadow(0px 1px 2px rgba(0, 0, 0, 0.3));\n",
              "      fill: #FFFFFF;\n",
              "    }\n",
              "  </style>\n",
              "\n",
              "    <script>\n",
              "      const buttonEl =\n",
              "        document.querySelector('#df-219eb923-4165-485b-90da-3009bbeb72b0 button.colab-df-convert');\n",
              "      buttonEl.style.display =\n",
              "        google.colab.kernel.accessAllowed ? 'block' : 'none';\n",
              "\n",
              "      async function convertToInteractive(key) {\n",
              "        const element = document.querySelector('#df-219eb923-4165-485b-90da-3009bbeb72b0');\n",
              "        const dataTable =\n",
              "          await google.colab.kernel.invokeFunction('convertToInteractive',\n",
              "                                                    [key], {});\n",
              "        if (!dataTable) return;\n",
              "\n",
              "        const docLinkHtml = 'Like what you see? Visit the ' +\n",
              "          '<a target=\"_blank\" href=https://colab.research.google.com/notebooks/data_table.ipynb>data table notebook</a>'\n",
              "          + ' to learn more about interactive tables.';\n",
              "        element.innerHTML = '';\n",
              "        dataTable['output_type'] = 'display_data';\n",
              "        await google.colab.output.renderOutput(dataTable, element);\n",
              "        const docLink = document.createElement('div');\n",
              "        docLink.innerHTML = docLinkHtml;\n",
              "        element.appendChild(docLink);\n",
              "      }\n",
              "    </script>\n",
              "  </div>\n",
              "\n",
              "\n",
              "    <div id=\"df-24860333-73a1-4569-980b-abae70222d1c\">\n",
              "      <button class=\"colab-df-quickchart\" onclick=\"quickchart('df-24860333-73a1-4569-980b-abae70222d1c')\"\n",
              "                title=\"Suggest charts\"\n",
              "                style=\"display:none;\">\n",
              "\n",
              "<svg xmlns=\"http://www.w3.org/2000/svg\" height=\"24px\"viewBox=\"0 0 24 24\"\n",
              "     width=\"24px\">\n",
              "    <g>\n",
              "        <path d=\"M19 3H5c-1.1 0-2 .9-2 2v14c0 1.1.9 2 2 2h14c1.1 0 2-.9 2-2V5c0-1.1-.9-2-2-2zM9 17H7v-7h2v7zm4 0h-2V7h2v10zm4 0h-2v-4h2v4z\"/>\n",
              "    </g>\n",
              "</svg>\n",
              "      </button>\n",
              "\n",
              "<style>\n",
              "  .colab-df-quickchart {\n",
              "      --bg-color: #E8F0FE;\n",
              "      --fill-color: #1967D2;\n",
              "      --hover-bg-color: #E2EBFA;\n",
              "      --hover-fill-color: #174EA6;\n",
              "      --disabled-fill-color: #AAA;\n",
              "      --disabled-bg-color: #DDD;\n",
              "  }\n",
              "\n",
              "  [theme=dark] .colab-df-quickchart {\n",
              "      --bg-color: #3B4455;\n",
              "      --fill-color: #D2E3FC;\n",
              "      --hover-bg-color: #434B5C;\n",
              "      --hover-fill-color: #FFFFFF;\n",
              "      --disabled-bg-color: #3B4455;\n",
              "      --disabled-fill-color: #666;\n",
              "  }\n",
              "\n",
              "  .colab-df-quickchart {\n",
              "    background-color: var(--bg-color);\n",
              "    border: none;\n",
              "    border-radius: 50%;\n",
              "    cursor: pointer;\n",
              "    display: none;\n",
              "    fill: var(--fill-color);\n",
              "    height: 32px;\n",
              "    padding: 0;\n",
              "    width: 32px;\n",
              "  }\n",
              "\n",
              "  .colab-df-quickchart:hover {\n",
              "    background-color: var(--hover-bg-color);\n",
              "    box-shadow: 0 1px 2px rgba(60, 64, 67, 0.3), 0 1px 3px 1px rgba(60, 64, 67, 0.15);\n",
              "    fill: var(--button-hover-fill-color);\n",
              "  }\n",
              "\n",
              "  .colab-df-quickchart-complete:disabled,\n",
              "  .colab-df-quickchart-complete:disabled:hover {\n",
              "    background-color: var(--disabled-bg-color);\n",
              "    fill: var(--disabled-fill-color);\n",
              "    box-shadow: none;\n",
              "  }\n",
              "\n",
              "  .colab-df-spinner {\n",
              "    border: 2px solid var(--fill-color);\n",
              "    border-color: transparent;\n",
              "    border-bottom-color: var(--fill-color);\n",
              "    animation:\n",
              "      spin 1s steps(1) infinite;\n",
              "  }\n",
              "\n",
              "  @keyframes spin {\n",
              "    0% {\n",
              "      border-color: transparent;\n",
              "      border-bottom-color: var(--fill-color);\n",
              "      border-left-color: var(--fill-color);\n",
              "    }\n",
              "    20% {\n",
              "      border-color: transparent;\n",
              "      border-left-color: var(--fill-color);\n",
              "      border-top-color: var(--fill-color);\n",
              "    }\n",
              "    30% {\n",
              "      border-color: transparent;\n",
              "      border-left-color: var(--fill-color);\n",
              "      border-top-color: var(--fill-color);\n",
              "      border-right-color: var(--fill-color);\n",
              "    }\n",
              "    40% {\n",
              "      border-color: transparent;\n",
              "      border-right-color: var(--fill-color);\n",
              "      border-top-color: var(--fill-color);\n",
              "    }\n",
              "    60% {\n",
              "      border-color: transparent;\n",
              "      border-right-color: var(--fill-color);\n",
              "    }\n",
              "    80% {\n",
              "      border-color: transparent;\n",
              "      border-right-color: var(--fill-color);\n",
              "      border-bottom-color: var(--fill-color);\n",
              "    }\n",
              "    90% {\n",
              "      border-color: transparent;\n",
              "      border-bottom-color: var(--fill-color);\n",
              "    }\n",
              "  }\n",
              "</style>\n",
              "\n",
              "      <script>\n",
              "        async function quickchart(key) {\n",
              "          const quickchartButtonEl =\n",
              "            document.querySelector('#' + key + ' button');\n",
              "          quickchartButtonEl.disabled = true;  // To prevent multiple clicks.\n",
              "          quickchartButtonEl.classList.add('colab-df-spinner');\n",
              "          try {\n",
              "            const charts = await google.colab.kernel.invokeFunction(\n",
              "                'suggestCharts', [key], {});\n",
              "          } catch (error) {\n",
              "            console.error('Error during call to suggestCharts:', error);\n",
              "          }\n",
              "          quickchartButtonEl.classList.remove('colab-df-spinner');\n",
              "          quickchartButtonEl.classList.add('colab-df-quickchart-complete');\n",
              "        }\n",
              "        (() => {\n",
              "          let quickchartButtonEl =\n",
              "            document.querySelector('#df-24860333-73a1-4569-980b-abae70222d1c button');\n",
              "          quickchartButtonEl.style.display =\n",
              "            google.colab.kernel.accessAllowed ? 'block' : 'none';\n",
              "        })();\n",
              "      </script>\n",
              "    </div>\n",
              "\n",
              "    </div>\n",
              "  </div>\n"
            ],
            "application/vnd.google.colaboratory.intrinsic+json": {
              "type": "dataframe",
              "summary": "{\n  \"name\": \"df\",\n  \"rows\": 8,\n  \"fields\": [\n    {\n      \"column\": \"user_id\",\n      \"properties\": {\n        \"dtype\": \"number\",\n        \"std\": 32.341093750545404,\n        \"min\": 1.0,\n        \"max\": 100.0,\n        \"num_unique_values\": 8,\n        \"samples\": [\n          10.76,\n          11.0,\n          100.0\n        ],\n        \"semantic_type\": \"\",\n        \"description\": \"\"\n      }\n    },\n    {\n      \"column\": \"episode_id\",\n      \"properties\": {\n        \"dtype\": \"number\",\n        \"std\": 31.614558532607997,\n        \"min\": 1.0,\n        \"max\": 100.0,\n        \"num_unique_values\": 8,\n        \"samples\": [\n          15.5,\n          14.0,\n          100.0\n        ],\n        \"semantic_type\": \"\",\n        \"description\": \"\"\n      }\n    },\n    {\n      \"column\": \"duration_seconds\",\n      \"properties\": {\n        \"dtype\": \"number\",\n        \"std\": 680.5127299037405,\n        \"min\": 0.0,\n        \"max\": 1800.0,\n        \"num_unique_values\": 8,\n        \"samples\": [\n          669.0,\n          300.0,\n          100.0\n        ],\n        \"semantic_type\": \"\",\n        \"description\": \"\"\n      }\n    },\n    {\n      \"column\": \"age\",\n      \"properties\": {\n        \"dtype\": \"number\",\n        \"std\": 27.48141501224406,\n        \"min\": 11.849323383487542,\n        \"max\": 100.0,\n        \"num_unique_values\": 8,\n        \"samples\": [\n          39.76,\n          42.0,\n          100.0\n        ],\n        \"semantic_type\": \"\",\n        \"description\": \"\"\n      }\n    }\n  ]\n}"
            }
          },
          "metadata": {},
          "execution_count": 122
        }
      ]
    },
    {
      "cell_type": "code",
      "source": [
        "df.describe(include=\"object\").T #to get the details about the object (string) columns in the DataFrame"
      ],
      "metadata": {
        "colab": {
          "base_uri": "https://localhost:8080/",
          "height": 175
        },
        "id": "eH4Q7W3LmhlZ",
        "outputId": "90c9b8b6-9501-45b8-fc5c-5da83d3d1626"
      },
      "execution_count": null,
      "outputs": [
        {
          "output_type": "execute_result",
          "data": {
            "text/plain": [
              "         count unique        top freq\n",
              "title      100     30  Episode 6    7\n",
              "category   100      6    Society   32\n",
              "gender     100      2     female   53\n",
              "country    100      5     Jordan   29"
            ],
            "text/html": [
              "\n",
              "  <div id=\"df-2bb77e2b-2ae7-406d-844a-d74883a9e308\" class=\"colab-df-container\">\n",
              "    <div>\n",
              "<style scoped>\n",
              "    .dataframe tbody tr th:only-of-type {\n",
              "        vertical-align: middle;\n",
              "    }\n",
              "\n",
              "    .dataframe tbody tr th {\n",
              "        vertical-align: top;\n",
              "    }\n",
              "\n",
              "    .dataframe thead th {\n",
              "        text-align: right;\n",
              "    }\n",
              "</style>\n",
              "<table border=\"1\" class=\"dataframe\">\n",
              "  <thead>\n",
              "    <tr style=\"text-align: right;\">\n",
              "      <th></th>\n",
              "      <th>count</th>\n",
              "      <th>unique</th>\n",
              "      <th>top</th>\n",
              "      <th>freq</th>\n",
              "    </tr>\n",
              "  </thead>\n",
              "  <tbody>\n",
              "    <tr>\n",
              "      <th>title</th>\n",
              "      <td>100</td>\n",
              "      <td>30</td>\n",
              "      <td>Episode 6</td>\n",
              "      <td>7</td>\n",
              "    </tr>\n",
              "    <tr>\n",
              "      <th>category</th>\n",
              "      <td>100</td>\n",
              "      <td>6</td>\n",
              "      <td>Society</td>\n",
              "      <td>32</td>\n",
              "    </tr>\n",
              "    <tr>\n",
              "      <th>gender</th>\n",
              "      <td>100</td>\n",
              "      <td>2</td>\n",
              "      <td>female</td>\n",
              "      <td>53</td>\n",
              "    </tr>\n",
              "    <tr>\n",
              "      <th>country</th>\n",
              "      <td>100</td>\n",
              "      <td>5</td>\n",
              "      <td>Jordan</td>\n",
              "      <td>29</td>\n",
              "    </tr>\n",
              "  </tbody>\n",
              "</table>\n",
              "</div>\n",
              "    <div class=\"colab-df-buttons\">\n",
              "\n",
              "  <div class=\"colab-df-container\">\n",
              "    <button class=\"colab-df-convert\" onclick=\"convertToInteractive('df-2bb77e2b-2ae7-406d-844a-d74883a9e308')\"\n",
              "            title=\"Convert this dataframe to an interactive table.\"\n",
              "            style=\"display:none;\">\n",
              "\n",
              "  <svg xmlns=\"http://www.w3.org/2000/svg\" height=\"24px\" viewBox=\"0 -960 960 960\">\n",
              "    <path d=\"M120-120v-720h720v720H120Zm60-500h600v-160H180v160Zm220 220h160v-160H400v160Zm0 220h160v-160H400v160ZM180-400h160v-160H180v160Zm440 0h160v-160H620v160ZM180-180h160v-160H180v160Zm440 0h160v-160H620v160Z\"/>\n",
              "  </svg>\n",
              "    </button>\n",
              "\n",
              "  <style>\n",
              "    .colab-df-container {\n",
              "      display:flex;\n",
              "      gap: 12px;\n",
              "    }\n",
              "\n",
              "    .colab-df-convert {\n",
              "      background-color: #E8F0FE;\n",
              "      border: none;\n",
              "      border-radius: 50%;\n",
              "      cursor: pointer;\n",
              "      display: none;\n",
              "      fill: #1967D2;\n",
              "      height: 32px;\n",
              "      padding: 0 0 0 0;\n",
              "      width: 32px;\n",
              "    }\n",
              "\n",
              "    .colab-df-convert:hover {\n",
              "      background-color: #E2EBFA;\n",
              "      box-shadow: 0px 1px 2px rgba(60, 64, 67, 0.3), 0px 1px 3px 1px rgba(60, 64, 67, 0.15);\n",
              "      fill: #174EA6;\n",
              "    }\n",
              "\n",
              "    .colab-df-buttons div {\n",
              "      margin-bottom: 4px;\n",
              "    }\n",
              "\n",
              "    [theme=dark] .colab-df-convert {\n",
              "      background-color: #3B4455;\n",
              "      fill: #D2E3FC;\n",
              "    }\n",
              "\n",
              "    [theme=dark] .colab-df-convert:hover {\n",
              "      background-color: #434B5C;\n",
              "      box-shadow: 0px 1px 3px 1px rgba(0, 0, 0, 0.15);\n",
              "      filter: drop-shadow(0px 1px 2px rgba(0, 0, 0, 0.3));\n",
              "      fill: #FFFFFF;\n",
              "    }\n",
              "  </style>\n",
              "\n",
              "    <script>\n",
              "      const buttonEl =\n",
              "        document.querySelector('#df-2bb77e2b-2ae7-406d-844a-d74883a9e308 button.colab-df-convert');\n",
              "      buttonEl.style.display =\n",
              "        google.colab.kernel.accessAllowed ? 'block' : 'none';\n",
              "\n",
              "      async function convertToInteractive(key) {\n",
              "        const element = document.querySelector('#df-2bb77e2b-2ae7-406d-844a-d74883a9e308');\n",
              "        const dataTable =\n",
              "          await google.colab.kernel.invokeFunction('convertToInteractive',\n",
              "                                                    [key], {});\n",
              "        if (!dataTable) return;\n",
              "\n",
              "        const docLinkHtml = 'Like what you see? Visit the ' +\n",
              "          '<a target=\"_blank\" href=https://colab.research.google.com/notebooks/data_table.ipynb>data table notebook</a>'\n",
              "          + ' to learn more about interactive tables.';\n",
              "        element.innerHTML = '';\n",
              "        dataTable['output_type'] = 'display_data';\n",
              "        await google.colab.output.renderOutput(dataTable, element);\n",
              "        const docLink = document.createElement('div');\n",
              "        docLink.innerHTML = docLinkHtml;\n",
              "        element.appendChild(docLink);\n",
              "      }\n",
              "    </script>\n",
              "  </div>\n",
              "\n",
              "\n",
              "    <div id=\"df-92053393-523a-41c3-9f82-681cd5535b74\">\n",
              "      <button class=\"colab-df-quickchart\" onclick=\"quickchart('df-92053393-523a-41c3-9f82-681cd5535b74')\"\n",
              "                title=\"Suggest charts\"\n",
              "                style=\"display:none;\">\n",
              "\n",
              "<svg xmlns=\"http://www.w3.org/2000/svg\" height=\"24px\"viewBox=\"0 0 24 24\"\n",
              "     width=\"24px\">\n",
              "    <g>\n",
              "        <path d=\"M19 3H5c-1.1 0-2 .9-2 2v14c0 1.1.9 2 2 2h14c1.1 0 2-.9 2-2V5c0-1.1-.9-2-2-2zM9 17H7v-7h2v7zm4 0h-2V7h2v10zm4 0h-2v-4h2v4z\"/>\n",
              "    </g>\n",
              "</svg>\n",
              "      </button>\n",
              "\n",
              "<style>\n",
              "  .colab-df-quickchart {\n",
              "      --bg-color: #E8F0FE;\n",
              "      --fill-color: #1967D2;\n",
              "      --hover-bg-color: #E2EBFA;\n",
              "      --hover-fill-color: #174EA6;\n",
              "      --disabled-fill-color: #AAA;\n",
              "      --disabled-bg-color: #DDD;\n",
              "  }\n",
              "\n",
              "  [theme=dark] .colab-df-quickchart {\n",
              "      --bg-color: #3B4455;\n",
              "      --fill-color: #D2E3FC;\n",
              "      --hover-bg-color: #434B5C;\n",
              "      --hover-fill-color: #FFFFFF;\n",
              "      --disabled-bg-color: #3B4455;\n",
              "      --disabled-fill-color: #666;\n",
              "  }\n",
              "\n",
              "  .colab-df-quickchart {\n",
              "    background-color: var(--bg-color);\n",
              "    border: none;\n",
              "    border-radius: 50%;\n",
              "    cursor: pointer;\n",
              "    display: none;\n",
              "    fill: var(--fill-color);\n",
              "    height: 32px;\n",
              "    padding: 0;\n",
              "    width: 32px;\n",
              "  }\n",
              "\n",
              "  .colab-df-quickchart:hover {\n",
              "    background-color: var(--hover-bg-color);\n",
              "    box-shadow: 0 1px 2px rgba(60, 64, 67, 0.3), 0 1px 3px 1px rgba(60, 64, 67, 0.15);\n",
              "    fill: var(--button-hover-fill-color);\n",
              "  }\n",
              "\n",
              "  .colab-df-quickchart-complete:disabled,\n",
              "  .colab-df-quickchart-complete:disabled:hover {\n",
              "    background-color: var(--disabled-bg-color);\n",
              "    fill: var(--disabled-fill-color);\n",
              "    box-shadow: none;\n",
              "  }\n",
              "\n",
              "  .colab-df-spinner {\n",
              "    border: 2px solid var(--fill-color);\n",
              "    border-color: transparent;\n",
              "    border-bottom-color: var(--fill-color);\n",
              "    animation:\n",
              "      spin 1s steps(1) infinite;\n",
              "  }\n",
              "\n",
              "  @keyframes spin {\n",
              "    0% {\n",
              "      border-color: transparent;\n",
              "      border-bottom-color: var(--fill-color);\n",
              "      border-left-color: var(--fill-color);\n",
              "    }\n",
              "    20% {\n",
              "      border-color: transparent;\n",
              "      border-left-color: var(--fill-color);\n",
              "      border-top-color: var(--fill-color);\n",
              "    }\n",
              "    30% {\n",
              "      border-color: transparent;\n",
              "      border-left-color: var(--fill-color);\n",
              "      border-top-color: var(--fill-color);\n",
              "      border-right-color: var(--fill-color);\n",
              "    }\n",
              "    40% {\n",
              "      border-color: transparent;\n",
              "      border-right-color: var(--fill-color);\n",
              "      border-top-color: var(--fill-color);\n",
              "    }\n",
              "    60% {\n",
              "      border-color: transparent;\n",
              "      border-right-color: var(--fill-color);\n",
              "    }\n",
              "    80% {\n",
              "      border-color: transparent;\n",
              "      border-right-color: var(--fill-color);\n",
              "      border-bottom-color: var(--fill-color);\n",
              "    }\n",
              "    90% {\n",
              "      border-color: transparent;\n",
              "      border-bottom-color: var(--fill-color);\n",
              "    }\n",
              "  }\n",
              "</style>\n",
              "\n",
              "      <script>\n",
              "        async function quickchart(key) {\n",
              "          const quickchartButtonEl =\n",
              "            document.querySelector('#' + key + ' button');\n",
              "          quickchartButtonEl.disabled = true;  // To prevent multiple clicks.\n",
              "          quickchartButtonEl.classList.add('colab-df-spinner');\n",
              "          try {\n",
              "            const charts = await google.colab.kernel.invokeFunction(\n",
              "                'suggestCharts', [key], {});\n",
              "          } catch (error) {\n",
              "            console.error('Error during call to suggestCharts:', error);\n",
              "          }\n",
              "          quickchartButtonEl.classList.remove('colab-df-spinner');\n",
              "          quickchartButtonEl.classList.add('colab-df-quickchart-complete');\n",
              "        }\n",
              "        (() => {\n",
              "          let quickchartButtonEl =\n",
              "            document.querySelector('#df-92053393-523a-41c3-9f82-681cd5535b74 button');\n",
              "          quickchartButtonEl.style.display =\n",
              "            google.colab.kernel.accessAllowed ? 'block' : 'none';\n",
              "        })();\n",
              "      </script>\n",
              "    </div>\n",
              "\n",
              "    </div>\n",
              "  </div>\n"
            ],
            "application/vnd.google.colaboratory.intrinsic+json": {
              "type": "dataframe",
              "summary": "{\n  \"name\": \"df\",\n  \"rows\": 4,\n  \"fields\": [\n    {\n      \"column\": \"count\",\n      \"properties\": {\n        \"dtype\": \"date\",\n        \"min\": \"100\",\n        \"max\": \"100\",\n        \"num_unique_values\": 1,\n        \"samples\": [\n          \"100\"\n        ],\n        \"semantic_type\": \"\",\n        \"description\": \"\"\n      }\n    },\n    {\n      \"column\": \"unique\",\n      \"properties\": {\n        \"dtype\": \"date\",\n        \"min\": 2,\n        \"max\": 30,\n        \"num_unique_values\": 4,\n        \"samples\": [\n          6\n        ],\n        \"semantic_type\": \"\",\n        \"description\": \"\"\n      }\n    },\n    {\n      \"column\": \"top\",\n      \"properties\": {\n        \"dtype\": \"string\",\n        \"num_unique_values\": 4,\n        \"samples\": [\n          \"Society\"\n        ],\n        \"semantic_type\": \"\",\n        \"description\": \"\"\n      }\n    },\n    {\n      \"column\": \"freq\",\n      \"properties\": {\n        \"dtype\": \"date\",\n        \"min\": \"7\",\n        \"max\": \"53\",\n        \"num_unique_values\": 4,\n        \"samples\": [\n          \"32\"\n        ],\n        \"semantic_type\": \"\",\n        \"description\": \"\"\n      }\n    }\n  ]\n}"
            }
          },
          "metadata": {},
          "execution_count": 123
        }
      ]
    },
    {
      "cell_type": "code",
      "source": [
        "df[\"category\"].unique() #check the unique categories"
      ],
      "metadata": {
        "colab": {
          "base_uri": "https://localhost:8080/"
        },
        "id": "xuhiOSMZobzV",
        "outputId": "b50ea1b7-5569-4fa7-c733-daaf45ba7580"
      },
      "execution_count": null,
      "outputs": [
        {
          "output_type": "execute_result",
          "data": {
            "text/plain": [
              "array(['Sports', 'Society', 'News', 'Religion', 'Technology', 'Politics'],\n",
              "      dtype=object)"
            ]
          },
          "metadata": {},
          "execution_count": 124
        }
      ]
    },
    {
      "cell_type": "markdown",
      "source": [
        "### visualization Summary"
      ],
      "metadata": {
        "id": "TV497jEA0n8P"
      }
    },
    {
      "cell_type": "markdown",
      "source": [
        "![Data-Visualization-Trends-Tools-2024-Blog.png](data:image/png;base64,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)"
      ],
      "metadata": {
        "id": "B5voRWQm042l"
      }
    },
    {
      "cell_type": "markdown",
      "source": [
        "\n",
        "\n",
        "---\n",
        "\n"
      ],
      "metadata": {
        "id": "8fYoAu2A2cbl"
      }
    },
    {
      "cell_type": "markdown",
      "source": [
        "### 2.1  Which categories of podcasts are the most listened to? (ما أكثر فئات الحلقات استماعًا؟)"
      ],
      "metadata": {
        "id": "kPN4t0Tq1U12"
      }
    },
    {
      "cell_type": "code",
      "source": [
        "plt.figure(figsize=(10, 6)) #Set plot dimensions for optimal visualization\n",
        "category_num = df[\"category\"].value_counts() #to calculate category frequency counts\n",
        "sns.barplot(x=category_num.values, y=category_num.index, palette=\"viridis\")\n",
        "plt.title(\"Most Listened Podcast Categories\")\n",
        "plt.xlabel(\"Number of Listens\")\n",
        "plt.ylabel(\"Category\")\n",
        "plt.tight_layout()\n",
        "plt.show()"
      ],
      "metadata": {
        "colab": {
          "base_uri": "https://localhost:8080/",
          "height": 734
        },
        "id": "-A8skDnBnniO",
        "outputId": "36148d38-a121-46f9-8bf9-25f413f47d68"
      },
      "execution_count": null,
      "outputs": [
        {
          "output_type": "stream",
          "name": "stderr",
          "text": [
            "<ipython-input-125-deadc5408d95>:3: FutureWarning:\n",
            "\n",
            "\n",
            "\n",
            "Passing `palette` without assigning `hue` is deprecated and will be removed in v0.14.0. Assign the `y` variable to `hue` and set `legend=False` for the same effect.\n",
            "\n",
            "\n"
          ]
        },
        {
          "output_type": "display_data",
          "data": {
            "text/plain": [
              "<Figure size 1000x600 with 1 Axes>"
            ],
            "image/png": "[encoded data removed]"
          },
          "metadata": {}
        }
      ]
    },
    {
      "cell_type": "markdown",
      "source": [
        "**The Plot shows that Sociaty have the highest number of listeners**\n",
        "\n",
        "however to make sure, i wrote the code below\n",
        "\n",
        "\n"
      ],
      "metadata": {
        "id": "Ms7JqUJWpqpt"
      }
    },
    {
      "cell_type": "code",
      "source": [
        "category_num.head(6)"
      ],
      "metadata": {
        "colab": {
          "base_uri": "https://localhost:8080/",
          "height": 303
        },
        "id": "qemk-npZpaNi",
        "outputId": "ed5122cf-7642-4153-a47a-7fc31758e716"
      },
      "execution_count": null,
      "outputs": [
        {
          "output_type": "execute_result",
          "data": {
            "text/plain": [
              "category\n",
              "Society       32\n",
              "Sports        30\n",
              "News          16\n",
              "Religion      10\n",
              "Politics       7\n",
              "Technology     5\n",
              "Name: count, dtype: int64"
            ],
            "text/html": [
              "<div>\n",
              "<style scoped>\n",
              "    .dataframe tbody tr th:only-of-type {\n",
              "        vertical-align: middle;\n",
              "    }\n",
              "\n",
              "    .dataframe tbody tr th {\n",
              "        vertical-align: top;\n",
              "    }\n",
              "\n",
              "    .dataframe thead th {\n",
              "        text-align: right;\n",
              "    }\n",
              "</style>\n",
              "<table border=\"1\" class=\"dataframe\">\n",
              "  <thead>\n",
              "    <tr style=\"text-align: right;\">\n",
              "      <th></th>\n",
              "      <th>count</th>\n",
              "    </tr>\n",
              "    <tr>\n",
              "      <th>category</th>\n",
              "      <th></th>\n",
              "    </tr>\n",
              "  </thead>\n",
              "  <tbody>\n",
              "    <tr>\n",
              "      <th>Society</th>\n",
              "      <td>32</td>\n",
              "    </tr>\n",
              "    <tr>\n",
              "      <th>Sports</th>\n",
              "      <td>30</td>\n",
              "    </tr>\n",
              "    <tr>\n",
              "      <th>News</th>\n",
              "      <td>16</td>\n",
              "    </tr>\n",
              "    <tr>\n",
              "      <th>Religion</th>\n",
              "      <td>10</td>\n",
              "    </tr>\n",
              "    <tr>\n",
              "      <th>Politics</th>\n",
              "      <td>7</td>\n",
              "    </tr>\n",
              "    <tr>\n",
              "      <th>Technology</th>\n",
              "      <td>5</td>\n",
              "    </tr>\n",
              "  </tbody>\n",
              "</table>\n",
              "</div><br><label><b>dtype:</b> int64</label>"
            ]
          },
          "metadata": {},
          "execution_count": 126
        }
      ]
    },
    {
      "cell_type": "markdown",
      "source": [
        "### The category with the highest number of listeners are: **Society** with a total of **32** listeners"
      ],
      "metadata": {
        "id": "P7-WdL5ctDYc"
      }
    },
    {
      "cell_type": "markdown",
      "source": [
        "\n",
        "\n",
        "---\n",
        "\n"
      ],
      "metadata": {
        "id": "ndc_ZxsP2aeJ"
      }
    },
    {
      "cell_type": "markdown",
      "source": [
        "## 2.2 What is the difference in the average listening time between males and females? (ما الفرق في متوسط مدة الاستماع بين الذكور والإناث؟)"
      ],
      "metadata": {
        "id": "-SOvHYjf1y_v"
      }
    },
    {
      "cell_type": "code",
      "source": [
        "px.pie(df,names=\"gender\",title=\"Gender Distribution\",hole=0.5,color_discrete_sequence=px.colors.sequential.RdBu)\n",
        "## Plotly Express library support Easy customize for the visualiziton of the database."
      ],
      "metadata": {
        "colab": {
          "base_uri": "https://localhost:8080/",
          "height": 542
        },
        "id": "3kXmldyLtlZk",
        "outputId": "0c8f0cc9-023f-4e88-eebf-50c1b8e9f847"
      },
      "execution_count": null,
      "outputs": [
        {
          "output_type": "display_data",
          "data": {
            "text/html": [
              "<html>\n",
              "<head><meta charset=\"utf-8\" /></head>\n",
              "<body>\n",
              "    <div>            <script src=\"https://cdnjs.cloudflare.com/ajax/libs/mathjax/2.7.5/MathJax.js?config=TeX-AMS-MML_SVG\"></script><script type=\"text/javascript\">if (window.MathJax && window.MathJax.Hub && window.MathJax.Hub.Config) {window.MathJax.Hub.Config({SVG: {font: \"STIX-Web\"}});}</script>                <script type=\"text/javascript\">window.PlotlyConfig = {MathJaxConfig: 'local'};</script>\n",
              "        <script charset=\"utf-8\" src=\"https://cdn.plot.ly/plotly-2.35.2.min.js\"></script>                <div id=\"cf850821-aac0-4fdd-99a6-7ab36287c31a\" class=\"plotly-graph-div\" style=\"height:525px; width:100%;\"></div>            <script type=\"text/javascript\">                                    window.PLOTLYENV=window.PLOTLYENV || {};                                    if (document.getElementById(\"cf850821-aac0-4fdd-99a6-7ab36287c31a\")) {                    Plotly.newPlot(                        \"cf850821-aac0-4fdd-99a6-7ab36287c31a\",                        [{\"domain\":{\"x\":[0.0,1.0],\"y\":[0.0,1.0]},\"hole\":0.5,\"hovertemplate\":\"gender=%{label}\\u003cextra\\u003e\\u003c\\u002fextra\\u003e\",\"labels\":[\"female\",\"male\",\"male\",\"male\",\"male\",\"female\",\"male\",\"male\",\"female\",\"male\",\"female\",\"female\",\"male\",\"male\",\"female\",\"male\",\"female\",\"female\",\"female\",\"male\",\"male\",\"female\",\"female\",\"female\",\"female\",\"male\",\"female\",\"male\",\"female\",\"female\",\"male\",\"male\",\"male\",\"female\",\"male\",\"female\",\"female\",\"female\",\"female\",\"female\",\"female\",\"female\",\"male\",\"female\",\"female\",\"male\",\"female\",\"male\",\"female\",\"female\",\"female\",\"male\",\"female\",\"male\",\"female\",\"male\",\"male\",\"male\",\"female\",\"male\",\"male\",\"female\",\"male\",\"male\",\"female\",\"female\",\"female\",\"female\",\"female\",\"male\",\"female\",\"female\",\"female\",\"female\",\"male\",\"female\",\"male\",\"female\",\"female\",\"male\",\"male\",\"male\",\"male\",\"male\",\"male\",\"male\",\"female\",\"male\",\"male\",\"female\",\"female\",\"male\",\"male\",\"male\",\"female\",\"female\",\"male\",\"female\",\"female\",\"male\"],\"legendgroup\":\"\",\"name\":\"\",\"showlegend\":true,\"type\":\"pie\"}],                        {\"template\":{\"data\":{\"histogram2dcontour\":[{\"type\":\"histogram2dcontour\",\"colorbar\":{\"outlinewidth\":0,\"ticks\":\"\"},\"colorscale\":[[0.0,\"#0d0887\"],[0.1111111111111111,\"#46039f\"],[0.2222222222222222,\"#7201a8\"],[0.3333333333333333,\"#9c179e\"],[0.4444444444444444,\"#bd3786\"],[0.5555555555555556,\"#d8576b\"],[0.6666666666666666,\"#ed7953\"],[0.7777777777777778,\"#fb9f3a\"],[0.8888888888888888,\"#fdca26\"],[1.0,\"#f0f921\"]]}],\"choropleth\":[{\"type\":\"choropleth\",\"colorbar\":{\"outlinewidth\":0,\"ticks\":\"\"}}],\"histogram2d\":[{\"type\":\"histogram2d\",\"colorbar\":{\"outlinewidth\":0,\"ticks\":\"\"},\"colorscale\":[[0.0,\"#0d0887\"],[0.1111111111111111,\"#46039f\"],[0.2222222222222222,\"#7201a8\"],[0.3333333333333333,\"#9c179e\"],[0.4444444444444444,\"#bd3786\"],[0.5555555555555556,\"#d8576b\"],[0.6666666666666666,\"#ed7953\"],[0.7777777777777778,\"#fb9f3a\"],[0.8888888888888888,\"#fdca26\"],[1.0,\"#f0f921\"]]}],\"heatmap\":[{\"type\":\"heatmap\",\"colorbar\":{\"outlinewidth\":0,\"ticks\":\"\"},\"colorscale\":[[0.0,\"#0d0887\"],[0.1111111111111111,\"#46039f\"],[0.2222222222222222,\"#7201a8\"],[0.3333333333333333,\"#9c179e\"],[0.4444444444444444,\"#bd3786\"],[0.5555555555555556,\"#d8576b\"],[0.6666666666666666,\"#ed7953\"],[0.7777777777777778,\"#fb9f3a\"],[0.8888888888888888,\"#fdca26\"],[1.0,\"#f0f921\"]]}],\"heatmapgl\":[{\"type\":\"heatmapgl\",\"colorbar\":{\"outlinewidth\":0,\"ticks\":\"\"},\"colorscale\":[[0.0,\"#0d0887\"],[0.1111111111111111,\"#46039f\"],[0.2222222222222222,\"#7201a8\"],[0.3333333333333333,\"#9c179e\"],[0.4444444444444444,\"#bd3786\"],[0.5555555555555556,\"#d8576b\"],[0.6666666666666666,\"#ed7953\"],[0.7777777777777778,\"#fb9f3a\"],[0.8888888888888888,\"#fdca26\"],[1.0,\"#f0f921\"]]}],\"contourcarpet\":[{\"type\":\"contourcarpet\",\"colorbar\":{\"outlinewidth\":0,\"ticks\":\"\"}}],\"contour\":[{\"type\":\"contour\",\"colorbar\":{\"outlinewidth\":0,\"ticks\":\"\"},\"colorscale\":[[0.0,\"#0d0887\"],[0.1111111111111111,\"#46039f\"],[0.2222222222222222,\"#7201a8\"],[0.3333333333333333,\"#9c179e\"],[0.4444444444444444,\"#bd3786\"],[0.5555555555555556,\"#d8576b\"],[0.6666666666666666,\"#ed7953\"],[0.7777777777777778,\"#fb9f3a\"],[0.8888888888888888,\"#fdca26\"],[1.0,\"#f0f921\"]]}],\"surface\":[{\"type\":\"surface\",\"colorbar\":{\"outlinewidth\":0,\"ticks\":\"\"},\"colorscale\":[[0.0,\"#0d0887\"],[0.1111111111111111,\"#46039f\"],[0.2222222222222222,\"#7201a8\"],[0.3333333333333333,\"#9c179e\"],[0.4444444444444444,\"#bd3786\"],[0.5555555555555556,\"#d8576b\"],[0.6666666666666666,\"#ed7953\"],[0.7777777777777778,\"#fb9f3a\"],[0.8888888888888888,\"#fdca26\"],[1.0,\"#f0f921\"]]}],\"mesh3d\":[{\"type\":\"mesh3d\",\"colorbar\":{\"outlinewidth\":0,\"ticks\":\"\"}}],\"scatter\":[{\"fillpattern\":{\"fillmode\":\"overlay\",\"size\":10,\"solidity\":0.2},\"type\":\"scatter\"}],\"parcoords\":[{\"type\":\"parcoords\",\"line\":{\"colorbar\":{\"outlinewidth\":0,\"ticks\":\"\"}}}],\"scatterpolargl\":[{\"type\":\"scatterpolargl\",\"marker\":{\"colorbar\":{\"outlinewidth\":0,\"ticks\":\"\"}}}],\"bar\":[{\"error_x\":{\"color\":\"#2a3f5f\"},\"error_y\":{\"color\":\"#2a3f5f\"},\"marker\":{\"line\":{\"color\":\"#E5ECF6\",\"width\":0.5},\"pattern\":{\"fillmode\":\"overlay\",\"size\":10,\"solidity\":0.2}},\"type\":\"bar\"}],\"scattergeo\":[{\"type\":\"scattergeo\",\"marker\":{\"colorbar\":{\"outlinewidth\":0,\"ticks\":\"\"}}}],\"scatterpolar\":[{\"type\":\"scatterpolar\",\"marker\":{\"colorbar\":{\"outlinewidth\":0,\"ticks\":\"\"}}}],\"histogram\":[{\"marker\":{\"pattern\":{\"fillmode\":\"overlay\",\"size\":10,\"solidity\":0.2}},\"type\":\"histogram\"}],\"scattergl\":[{\"type\":\"scattergl\",\"marker\":{\"colorbar\":{\"outlinewidth\":0,\"ticks\":\"\"}}}],\"scatter3d\":[{\"type\":\"scatter3d\",\"line\":{\"colorbar\":{\"outlinewidth\":0,\"ticks\":\"\"}},\"marker\":{\"colorbar\":{\"outlinewidth\":0,\"ticks\":\"\"}}}],\"scattermapbox\":[{\"type\":\"scattermapbox\",\"marker\":{\"colorbar\":{\"outlinewidth\":0,\"ticks\":\"\"}}}],\"scatterternary\":[{\"type\":\"scatterternary\",\"marker\":{\"colorbar\":{\"outlinewidth\":0,\"ticks\":\"\"}}}],\"scattercarpet\":[{\"type\":\"scattercarpet\",\"marker\":{\"colorbar\":{\"outlinewidth\":0,\"ticks\":\"\"}}}],\"carpet\":[{\"aaxis\":{\"endlinecolor\":\"#2a3f5f\",\"gridcolor\":\"white\",\"linecolor\":\"white\",\"minorgridcolor\":\"white\",\"startlinecolor\":\"#2a3f5f\"},\"baxis\":{\"endlinecolor\":\"#2a3f5f\",\"gridcolor\":\"white\",\"linecolor\":\"white\",\"minorgridcolor\":\"white\",\"startlinecolor\":\"#2a3f5f\"},\"type\":\"carpet\"}],\"table\":[{\"cells\":{\"fill\":{\"color\":\"#EBF0F8\"},\"line\":{\"color\":\"white\"}},\"header\":{\"fill\":{\"color\":\"#C8D4E3\"},\"line\":{\"color\":\"white\"}},\"type\":\"table\"}],\"barpolar\":[{\"marker\":{\"line\":{\"color\":\"#E5ECF6\",\"width\":0.5},\"pattern\":{\"fillmode\":\"overlay\",\"size\":10,\"solidity\":0.2}},\"type\":\"barpolar\"}],\"pie\":[{\"automargin\":true,\"type\":\"pie\"}]},\"layout\":{\"autotypenumbers\":\"strict\",\"colorway\":[\"#636efa\",\"#EF553B\",\"#00cc96\",\"#ab63fa\",\"#FFA15A\",\"#19d3f3\",\"#FF6692\",\"#B6E880\",\"#FF97FF\",\"#FECB52\"],\"font\":{\"color\":\"#2a3f5f\"},\"hovermode\":\"closest\",\"hoverlabel\":{\"align\":\"left\"},\"paper_bgcolor\":\"white\",\"plot_bgcolor\":\"#E5ECF6\",\"polar\":{\"bgcolor\":\"#E5ECF6\",\"angularaxis\":{\"gridcolor\":\"white\",\"linecolor\":\"white\",\"ticks\":\"\"},\"radialaxis\":{\"gridcolor\":\"white\",\"linecolor\":\"white\",\"ticks\":\"\"}},\"ternary\":{\"bgcolor\":\"#E5ECF6\",\"aaxis\":{\"gridcolor\":\"white\",\"linecolor\":\"white\",\"ticks\":\"\"},\"baxis\":{\"gridcolor\":\"white\",\"linecolor\":\"white\",\"ticks\":\"\"},\"caxis\":{\"gridcolor\":\"white\",\"linecolor\":\"white\",\"ticks\":\"\"}},\"coloraxis\":{\"colorbar\":{\"outlinewidth\":0,\"ticks\":\"\"}},\"colorscale\":{\"sequential\":[[0.0,\"#0d0887\"],[0.1111111111111111,\"#46039f\"],[0.2222222222222222,\"#7201a8\"],[0.3333333333333333,\"#9c179e\"],[0.4444444444444444,\"#bd3786\"],[0.5555555555555556,\"#d8576b\"],[0.6666666666666666,\"#ed7953\"],[0.7777777777777778,\"#fb9f3a\"],[0.8888888888888888,\"#fdca26\"],[1.0,\"#f0f921\"]],\"sequentialminus\":[[0.0,\"#0d0887\"],[0.1111111111111111,\"#46039f\"],[0.2222222222222222,\"#7201a8\"],[0.3333333333333333,\"#9c179e\"],[0.4444444444444444,\"#bd3786\"],[0.5555555555555556,\"#d8576b\"],[0.6666666666666666,\"#ed7953\"],[0.7777777777777778,\"#fb9f3a\"],[0.8888888888888888,\"#fdca26\"],[1.0,\"#f0f921\"]],\"diverging\":[[0,\"#8e0152\"],[0.1,\"#c51b7d\"],[0.2,\"#de77ae\"],[0.3,\"#f1b6da\"],[0.4,\"#fde0ef\"],[0.5,\"#f7f7f7\"],[0.6,\"#e6f5d0\"],[0.7,\"#b8e186\"],[0.8,\"#7fbc41\"],[0.9,\"#4d9221\"],[1,\"#276419\"]]},\"xaxis\":{\"gridcolor\":\"white\",\"linecolor\":\"white\",\"ticks\":\"\",\"title\":{\"standoff\":15},\"zerolinecolor\":\"white\",\"automargin\":true,\"zerolinewidth\":2},\"yaxis\":{\"gridcolor\":\"white\",\"linecolor\":\"white\",\"ticks\":\"\",\"title\":{\"standoff\":15},\"zerolinecolor\":\"white\",\"automargin\":true,\"zerolinewidth\":2},\"scene\":{\"xaxis\":{\"backgroundcolor\":\"#E5ECF6\",\"gridcolor\":\"white\",\"linecolor\":\"white\",\"showbackground\":true,\"ticks\":\"\",\"zerolinecolor\":\"white\",\"gridwidth\":2},\"yaxis\":{\"backgroundcolor\":\"#E5ECF6\",\"gridcolor\":\"white\",\"linecolor\":\"white\",\"showbackground\":true,\"ticks\":\"\",\"zerolinecolor\":\"white\",\"gridwidth\":2},\"zaxis\":{\"backgroundcolor\":\"#E5ECF6\",\"gridcolor\":\"white\",\"linecolor\":\"white\",\"showbackground\":true,\"ticks\":\"\",\"zerolinecolor\":\"white\",\"gridwidth\":2}},\"shapedefaults\":{\"line\":{\"color\":\"#2a3f5f\"}},\"annotationdefaults\":{\"arrowcolor\":\"#2a3f5f\",\"arrowhead\":0,\"arrowwidth\":1},\"geo\":{\"bgcolor\":\"white\",\"landcolor\":\"#E5ECF6\",\"subunitcolor\":\"white\",\"showland\":true,\"showlakes\":true,\"lakecolor\":\"white\"},\"title\":{\"x\":0.05},\"mapbox\":{\"style\":\"light\"}}},\"legend\":{\"tracegroupgap\":0},\"title\":{\"text\":\"Gender Distribution\"},\"piecolorway\":[\"rgb(103,0,31)\",\"rgb(178,24,43)\",\"rgb(214,96,77)\",\"rgb(244,165,130)\",\"rgb(253,219,199)\",\"rgb(247,247,247)\",\"rgb(209,229,240)\",\"rgb(146,197,222)\",\"rgb(67,147,195)\",\"rgb(33,102,172)\",\"rgb(5,48,97)\"]},                        {\"responsive\": true}                    ).then(function(){\n",
              "                            \n",
              "var gd = document.getElementById('cf850821-aac0-4fdd-99a6-7ab36287c31a');\n",
              "var x = new MutationObserver(function (mutations, observer) {{\n",
              "        var display = window.getComputedStyle(gd).display;\n",
              "        if (!display || display === 'none') {{\n",
              "            console.log([gd, 'removed!']);\n",
              "            Plotly.purge(gd);\n",
              "            observer.disconnect();\n",
              "        }}\n",
              "}});\n",
              "\n",
              "// Listen for the removal of the full notebook cells\n",
              "var notebookContainer = gd.closest('#notebook-container');\n",
              "if (notebookContainer) {{\n",
              "    x.observe(notebookContainer, {childList: true});\n",
              "}}\n",
              "\n",
              "// Listen for the clearing of the current output cell\n",
              "var outputEl = gd.closest('.output');\n",
              "if (outputEl) {{\n",
              "    x.observe(outputEl, {childList: true});\n",
              "}}\n",
              "\n",
              "                        })                };                            </script>        </div>\n",
              "</body>\n",
              "</html>"
            ]
          },
          "metadata": {}
        }
      ]
    },
    {
      "cell_type": "markdown",
      "source": [
        "Females have a higher disturbution than Males"
      ],
      "metadata": {
        "id": "DgTg69jM4oPk"
      }
    },
    {
      "cell_type": "code",
      "source": [
        "# Group by gender and calculate average listening time\n",
        "avg_listen_time = df.groupby(\"gender\")[\"duration_seconds\"].mean()\n",
        "avg_listen_time = avg_listen_time.reset_index()\n",
        "avg_listen_time[\"duration_minutes\"] = avg_listen_time[\"duration_seconds\"] / 60 #convert seconds into minutes\n",
        "# Plot\n",
        "plt.figure(figsize=(10, 6)) #Initialize figure with optimal dimensions\n",
        "sns.barplot(data=avg_listen_time, x=\"gender\", y=\"duration_minutes\", palette=\"viridis\", edgecolor=\"black\")\n",
        "plt.title(\"Average Listening Time by Gender\")\n",
        "plt.xlabel(\"Gender\")\n",
        "plt.ylabel(\"Average Listening Duration (minutes)\")\n",
        "plt.tight_layout()\n",
        "plt.show()"
      ],
      "metadata": {
        "colab": {
          "base_uri": "https://localhost:8080/",
          "height": 734
        },
        "id": "ZB1IzT3IzuM1",
        "outputId": "207a3acb-6372-45b6-f8b1-176e47167824"
      },
      "execution_count": null,
      "outputs": [
        {
          "output_type": "stream",
          "name": "stderr",
          "text": [
            "<ipython-input-128-16592640a3b2>:7: FutureWarning:\n",
            "\n",
            "\n",
            "\n",
            "Passing `palette` without assigning `hue` is deprecated and will be removed in v0.14.0. Assign the `x` variable to `hue` and set `legend=False` for the same effect.\n",
            "\n",
            "\n"
          ]
        },
        {
          "output_type": "display_data",
          "data": {
            "text/plain": [
              "<Figure size 1000x600 with 1 Axes>"
            ],
            "image/png": "[encoded data removed]"
          },
          "metadata": {}
        }
      ]
    },
    {
      "cell_type": "markdown",
      "source": [
        "**The Plot shows that females have a higher average listing duration that males**\n",
        "\n",
        "However to get the exact difference i wrote the code below"
      ],
      "metadata": {
        "id": "EkOlwP2G01Lv"
      }
    },
    {
      "cell_type": "code",
      "source": [
        "male_avg = avg_listen_time.loc[avg_listen_time['gender'] == 'male', 'duration_minutes'].values[0]\n",
        "female_avg = avg_listen_time.loc[avg_listen_time['gender'] == 'female', 'duration_minutes'].values[0]\n",
        "\n",
        "diff = abs(male_avg - female_avg) #using absolute value to insure the difference appear in positive\n",
        "print(f\"difference between the average listing duration between males and females: {diff:.2f} minutes\")"
      ],
      "metadata": {
        "colab": {
          "base_uri": "https://localhost:8080/"
        },
        "id": "LUvJoUaH1bza",
        "outputId": "d305ef1b-93a5-42ef-9923-0a63b9897474"
      },
      "execution_count": null,
      "outputs": [
        {
          "output_type": "stream",
          "name": "stdout",
          "text": [
            "difference between the average listing duration between males and females: 3.01 minutes\n"
          ]
        }
      ]
    },
    {
      "cell_type": "markdown",
      "source": [
        "### the difference in the average listening time between males and females: 3.01 minutes\n",
        "( females listening time > males listening time )"
      ],
      "metadata": {
        "id": "8ChcqehU2slv"
      }
    },
    {
      "cell_type": "markdown",
      "source": [
        "\n",
        "\n",
        "---\n",
        "\n"
      ],
      "metadata": {
        "id": "IfWCFkZp4NHI"
      }
    },
    {
      "cell_type": "markdown",
      "source": [
        "### 2.3 What is the average number of episodes listened to by one user?  ( ما متوسط عدد الحلقات التي يستمع لها المستخدم الواحد؟)"
      ],
      "metadata": {
        "id": "cYxFjgEH9RAv"
      }
    },
    {
      "cell_type": "code",
      "source": [
        "episodes_avg = df.groupby('user_id')['episode_id'].count().mean() #we included the repeated listens to the same episode\n",
        "print(f\"the average number of episodes listened to by one user: {episodes_avg:.2f}\")"
      ],
      "metadata": {
        "colab": {
          "base_uri": "https://localhost:8080/"
        },
        "id": "-RMbYZkA3MON",
        "outputId": "c0b20157-79cd-4fd8-aeb1-ddbfb43817e4"
      },
      "execution_count": null,
      "outputs": [
        {
          "output_type": "stream",
          "name": "stdout",
          "text": [
            "the average number of episodes listened to by one user: 5.26\n"
          ]
        }
      ]
    },
    {
      "cell_type": "markdown",
      "source": [
        "### The Average number of episodes listened be single user: **5.26**\n",
        "Note: we included the repeated listens to the same episode"
      ],
      "metadata": {
        "id": "nxE_CyUx47kv"
      }
    },
    {
      "cell_type": "code",
      "source": [
        "episodes_avg = df.groupby('user_id')['episode_id'].nunique().mean() #we excluded the repeated listens to the same episode\n",
        "print(f\"the average number of episodes listened to by one user: {episodes_avg:.2f}\")"
      ],
      "metadata": {
        "colab": {
          "base_uri": "https://localhost:8080/"
        },
        "id": "14MzcZhA5f_y",
        "outputId": "de8a00d4-6407-49d0-e425-3ccb4283ccd2"
      },
      "execution_count": null,
      "outputs": [
        {
          "output_type": "stream",
          "name": "stdout",
          "text": [
            "the average number of episodes listened to by one user: 5.00\n"
          ]
        }
      ]
    },
    {
      "cell_type": "markdown",
      "source": [
        "### The Average number of episodes listened be single user: **5.00**\n",
        "Note: we excluded the repeated listens to the same episode"
      ],
      "metadata": {
        "id": "6dXmnN1-5n9s"
      }
    },
    {
      "cell_type": "markdown",
      "source": [
        "\n",
        "\n",
        "---\n",
        "\n"
      ],
      "metadata": {
        "id": "nbSAOSFN9wsW"
      }
    },
    {
      "cell_type": "markdown",
      "source": [
        "## 2.4 Considering the available data, what type of additional analysis or metric do you think would be useful for understanding user behavior? And why? (بالنظر إلى البيانات المتوفرة، ما هو نوع التحليل أو المؤشر الإضافي الذي تعتقد أنه سيكون مفيدًا لفهم سلوك المستخدم؟ ولماذا؟)\n",
        "\n",
        "### I recommend using a heatmap to show how many listeners tune in minute by minute during each episode. This makes it easy to spot which parts kept people most engaged. We can then use these insights to create short toboost episode(aka podcast) promotion.\n",
        "\n",
        "\n",
        "\n",
        "***here is an example below of how the heatmap will look like***"
      ],
      "metadata": {
        "id": "AGys4q6L-1Uc"
      }
    },
    {
      "cell_type": "code",
      "source": [
        "df['minute'] = (df['duration_seconds'] // 60).astype(int)\n",
        "\n",
        "heatmap_data = df.pivot_table(\n",
        "    index='episode_id',\n",
        "    columns='minute',\n",
        "    values='user_id',\n",
        "    aggfunc='count',\n",
        "    fill_value=0\n",
        ")\n",
        "\n",
        "plt.figure(figsize=(14, 8))\n",
        "sns.heatmap(heatmap_data, cmap='coolwarm', linewidths=0.5)\n",
        "plt.title(\"Heatmap of Listener Count per Minute per Episode\")\n",
        "plt.xlabel(\"Minute\")\n",
        "plt.ylabel(\"Episode ID\")\n",
        "plt.tight_layout()\n",
        "plt.show()"
      ],
      "metadata": {
        "colab": {
          "base_uri": "https://localhost:8080/",
          "height": 807
        },
        "id": "5olfeNyT58K7",
        "outputId": "2a2a74ad-fb17-44cb-a56e-63d750d07f0f"
      },
      "execution_count": null,
      "outputs": [
        {
          "output_type": "display_data",
          "data": {
            "text/plain": [
              "<Figure size 1400x800 with 2 Axes>"
            ],
            "image/png": "[encoded data removed]"
          },
          "metadata": {}
        }
      ]
    },
    {
      "cell_type": "markdown",
      "source": [
        "\n",
        "\n",
        "---\n",
        "\n",
        "\n",
        "\n",
        "---\n",
        "\n"
      ],
      "metadata": {
        "id": "nYZLoeLUBcSg"
      }
    },
    {
      "cell_type": "markdown",
      "source": [
        "## Task #3 (Generate Recommendations)"
      ],
      "metadata": {
        "id": "Ufmv8oca9kYz"
      }
    },
    {
      "cell_type": "markdown",
      "source": [
        "   ### 3.1 Write a simple Python function that recommends episodes to a specific user.\n",
        "\n",
        "\n",
        "   **Will be using KNN AI MODEL**\n"
      ],
      "metadata": {
        "id": "7wcH0JOq-WIf"
      }
    },
    {
      "cell_type": "code",
      "source": [
        "def recommend_episodes(user_id: int, listens_df, episodes_df):\n",
        "    user_data = listens_df.merge(episodes_df[['episode_id', 'category']], on='episode_id') # Merge to get category per listen\n",
        "    user_category = pd.crosstab(user_data['user_id'], user_data['category'])   # Create user-category matrix\n",
        "\n",
        "    if user_id not in user_category.index: #check if user not saved within the database (it's his first time watching a podcast)\n",
        "        return random.Random().sample(episodes_df['episode_id'].tolist(), 3) #we recommened random episodes for him (in future we may recommened podcasts with the highest rating)\n",
        "\n",
        "    # Fit KNN model\n",
        "    model = NearestNeighbors(n_neighbors=3, metric='cosine')\n",
        "    model.fit(user_category) #adding the user_id + user_categories to the KNN model\n",
        "\n",
        "    # Find similar users\n",
        "    user_vector = user_category.loc[[user_id]]\n",
        "    distances, indices = model.kneighbors(user_vector) #    - distances: Array of distances to similar users (smaller = more similar)\n",
        "  #    - indices: Array of positions for similar users in the dataset\n",
        "\n",
        "    similar_users = user_category.iloc[indices[0]].index.tolist()\n",
        "\n",
        "    # Get recommendations from similar users (excluding episodes already listened)\n",
        "    recommendations = listens_df[listens_df['user_id'].isin(similar_users)]\n",
        "    listened = listens_df[listens_df['user_id'] == user_id]['episode_id'].unique()\n",
        "    mask = recommendations['episode_id'].isin(listened) #checking if the podcast already listened to\n",
        "    recommendations = recommendations[mask == False] #the episodes already listened to has been remove.\n",
        "\n",
        "    return recommendations['episode_id'].value_counts().head(3).index.tolist() #only the first 3\n"
      ],
      "metadata": {
        "id": "TQJEZLIjCdHq"
      },
      "execution_count": null,
      "outputs": []
    },
    {
      "cell_type": "code",
      "source": [
        "df['user_id'].unique()"
      ],
      "metadata": {
        "colab": {
          "base_uri": "https://localhost:8080/"
        },
        "id": "Ae1yZOLBq7s-",
        "outputId": "db8ecf0f-663c-4d55-fd69-00a8f023ae9d"
      },
      "execution_count": null,
      "outputs": [
        {
          "output_type": "execute_result",
          "data": {
            "text/plain": [
              "array([16,  6, 17, 14, 10, 15, 12,  3, 19,  1,  5,  2, 18, 20,  7, 11,  4,\n",
              "        8,  9])"
            ]
          },
          "metadata": {},
          "execution_count": 134
        }
      ]
    },
    {
      "cell_type": "markdown",
      "source": [
        "### Test Cases"
      ],
      "metadata": {
        "id": "Q-D4y-IVA7tc"
      }
    },
    {
      "cell_type": "code",
      "source": [
        "recommendations = recommend_episodes(user_id=1, listens_df=df_listens, episodes_df=df_episodes)\n",
        "print(\"Top 3 recommended episodes for user 1:\", recommendations)\n",
        "recommendations = recommend_episodes(user_id=6, listens_df=df_listens, episodes_df=df_episodes)\n",
        "print(\"Top 3 recommended episodes for user 6:\", recommendations)\n",
        "recommendations = recommend_episodes(user_id=10032, listens_df=df_listens, episodes_df=df_episodes)\n",
        "print(\"Top 3 recommended episodes for user 10032:\", recommendations)  #Recommendations are randomized since this user isn't in our database"
      ],
      "metadata": {
        "colab": {
          "base_uri": "https://localhost:8080/"
        },
        "id": "EYsbWwFcJ_Hy",
        "outputId": "cb7ea0f7-3a9e-4da8-a7a9-6f719684bb94"
      },
      "execution_count": null,
      "outputs": [
        {
          "output_type": "stream",
          "name": "stdout",
          "text": [
            "Top 3 recommended episodes for user 1: [6, 20, 11]\n",
            "Top 3 recommended episodes for user 6: [15, 30, 22]\n",
            "Top 3 recommended episodes for user 10032: [13, 3, 6]\n"
          ]
        }
      ]
    },
    {
      "cell_type": "markdown",
      "source": [
        "**If you have any question you can contact me by scanning the qr code below**\n",
        "\n",
        "\n",
        "---\n",
        "\n",
        "\n",
        "\n",
        "---\n",
        "\n",
        "\n",
        "![Linkedln qrcode.png](data:image/png;base64,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)\n",
        "\n",
        "---\n",
        "\n",
        "---"
      ],
      "metadata": {
        "id": "Xaipv67AB7GC"
      }
    }
  ]
}